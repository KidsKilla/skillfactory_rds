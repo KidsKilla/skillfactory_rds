{
 "cells": [
  {
   "cell_type": "code",
   "execution_count": 117,
   "metadata": {},
   "outputs": [],
   "source": [
    "import pandas as pd\n",
    "import os\n",
    "ratings = pd.read_csv('ratings.csv')\n",
    "movies = pd.read_csv('movies.csv')\n",
    "joined = ratings.merge(movies, on=\"movieId\", how='left')\n",
    "outer = ratings.merge(movies, how='outer', on='movieId')"
   ]
  },
  {
   "cell_type": "code",
   "execution_count": 3,
   "metadata": {},
   "outputs": [
    {
     "output_type": "execute_result",
     "data": {
      "text/plain": "   userId  movieId  rating  timestamp\n0       1        1     4.0  964982703\n1       1        3     4.0  964981247\n2       1        6     4.0  964982224\n3       1       47     5.0  964983815\n4       1       50     5.0  964982931",
      "text/html": "<div>\n<style scoped>\n    .dataframe tbody tr th:only-of-type {\n        vertical-align: middle;\n    }\n\n    .dataframe tbody tr th {\n        vertical-align: top;\n    }\n\n    .dataframe thead th {\n        text-align: right;\n    }\n</style>\n<table border=\"1\" class=\"dataframe\">\n  <thead>\n    <tr style=\"text-align: right;\">\n      <th></th>\n      <th>userId</th>\n      <th>movieId</th>\n      <th>rating</th>\n      <th>timestamp</th>\n    </tr>\n  </thead>\n  <tbody>\n    <tr>\n      <td>0</td>\n      <td>1</td>\n      <td>1</td>\n      <td>4.0</td>\n      <td>964982703</td>\n    </tr>\n    <tr>\n      <td>1</td>\n      <td>1</td>\n      <td>3</td>\n      <td>4.0</td>\n      <td>964981247</td>\n    </tr>\n    <tr>\n      <td>2</td>\n      <td>1</td>\n      <td>6</td>\n      <td>4.0</td>\n      <td>964982224</td>\n    </tr>\n    <tr>\n      <td>3</td>\n      <td>1</td>\n      <td>47</td>\n      <td>5.0</td>\n      <td>964983815</td>\n    </tr>\n    <tr>\n      <td>4</td>\n      <td>1</td>\n      <td>50</td>\n      <td>5.0</td>\n      <td>964982931</td>\n    </tr>\n  </tbody>\n</table>\n</div>"
     },
     "metadata": {},
     "execution_count": 3
    }
   ],
   "source": [
    "ratings.head()"
   ]
  },
  {
   "cell_type": "code",
   "execution_count": 4,
   "metadata": {},
   "outputs": [
    {
     "output_type": "execute_result",
     "data": {
      "text/plain": "   movieId                               title  \\\n0        1                    Toy Story (1995)   \n1        2                      Jumanji (1995)   \n2        3             Grumpier Old Men (1995)   \n3        4            Waiting to Exhale (1995)   \n4        5  Father of the Bride Part II (1995)   \n\n                                        genres  \n0  Adventure|Animation|Children|Comedy|Fantasy  \n1                   Adventure|Children|Fantasy  \n2                               Comedy|Romance  \n3                         Comedy|Drama|Romance  \n4                                       Comedy  ",
      "text/html": "<div>\n<style scoped>\n    .dataframe tbody tr th:only-of-type {\n        vertical-align: middle;\n    }\n\n    .dataframe tbody tr th {\n        vertical-align: top;\n    }\n\n    .dataframe thead th {\n        text-align: right;\n    }\n</style>\n<table border=\"1\" class=\"dataframe\">\n  <thead>\n    <tr style=\"text-align: right;\">\n      <th></th>\n      <th>movieId</th>\n      <th>title</th>\n      <th>genres</th>\n    </tr>\n  </thead>\n  <tbody>\n    <tr>\n      <td>0</td>\n      <td>1</td>\n      <td>Toy Story (1995)</td>\n      <td>Adventure|Animation|Children|Comedy|Fantasy</td>\n    </tr>\n    <tr>\n      <td>1</td>\n      <td>2</td>\n      <td>Jumanji (1995)</td>\n      <td>Adventure|Children|Fantasy</td>\n    </tr>\n    <tr>\n      <td>2</td>\n      <td>3</td>\n      <td>Grumpier Old Men (1995)</td>\n      <td>Comedy|Romance</td>\n    </tr>\n    <tr>\n      <td>3</td>\n      <td>4</td>\n      <td>Waiting to Exhale (1995)</td>\n      <td>Comedy|Drama|Romance</td>\n    </tr>\n    <tr>\n      <td>4</td>\n      <td>5</td>\n      <td>Father of the Bride Part II (1995)</td>\n      <td>Comedy</td>\n    </tr>\n  </tbody>\n</table>\n</div>"
     },
     "metadata": {},
     "execution_count": 4
    }
   ],
   "source": [
    "movies.head()"
   ]
  },
  {
   "cell_type": "code",
   "execution_count": 16,
   "metadata": {},
   "outputs": [
    {
     "output_type": "execute_result",
     "data": {
      "text/plain": "   userId  movieId  rating  timestamp                        title  \\\n0       1        1     4.0  964982703             Toy Story (1995)   \n1       1        3     4.0  964981247      Grumpier Old Men (1995)   \n2       1        6     4.0  964982224                  Heat (1995)   \n3       1       47     5.0  964983815  Seven (a.k.a. Se7en) (1995)   \n4       1       50     5.0  964982931   Usual Suspects, The (1995)   \n\n                                        genres  \n0  Adventure|Animation|Children|Comedy|Fantasy  \n1                               Comedy|Romance  \n2                        Action|Crime|Thriller  \n3                             Mystery|Thriller  \n4                       Crime|Mystery|Thriller  ",
      "text/html": "<div>\n<style scoped>\n    .dataframe tbody tr th:only-of-type {\n        vertical-align: middle;\n    }\n\n    .dataframe tbody tr th {\n        vertical-align: top;\n    }\n\n    .dataframe thead th {\n        text-align: right;\n    }\n</style>\n<table border=\"1\" class=\"dataframe\">\n  <thead>\n    <tr style=\"text-align: right;\">\n      <th></th>\n      <th>userId</th>\n      <th>movieId</th>\n      <th>rating</th>\n      <th>timestamp</th>\n      <th>title</th>\n      <th>genres</th>\n    </tr>\n  </thead>\n  <tbody>\n    <tr>\n      <td>0</td>\n      <td>1</td>\n      <td>1</td>\n      <td>4.0</td>\n      <td>964982703</td>\n      <td>Toy Story (1995)</td>\n      <td>Adventure|Animation|Children|Comedy|Fantasy</td>\n    </tr>\n    <tr>\n      <td>1</td>\n      <td>1</td>\n      <td>3</td>\n      <td>4.0</td>\n      <td>964981247</td>\n      <td>Grumpier Old Men (1995)</td>\n      <td>Comedy|Romance</td>\n    </tr>\n    <tr>\n      <td>2</td>\n      <td>1</td>\n      <td>6</td>\n      <td>4.0</td>\n      <td>964982224</td>\n      <td>Heat (1995)</td>\n      <td>Action|Crime|Thriller</td>\n    </tr>\n    <tr>\n      <td>3</td>\n      <td>1</td>\n      <td>47</td>\n      <td>5.0</td>\n      <td>964983815</td>\n      <td>Seven (a.k.a. Se7en) (1995)</td>\n      <td>Mystery|Thriller</td>\n    </tr>\n    <tr>\n      <td>4</td>\n      <td>1</td>\n      <td>50</td>\n      <td>5.0</td>\n      <td>964982931</td>\n      <td>Usual Suspects, The (1995)</td>\n      <td>Crime|Mystery|Thriller</td>\n    </tr>\n  </tbody>\n</table>\n</div>"
     },
     "metadata": {},
     "execution_count": 16
    }
   ],
   "source": [
    "joined.head()"
   ]
  },
  {
   "cell_type": "code",
   "execution_count": 28,
   "metadata": {},
   "outputs": [],
   "source": [
    "items_dict = {\n",
    "    'item_id': [417283, 849734, 132223, 573943, 19475, 3294095, 382043, 302948, 100132, 312394], \n",
    "    'vendor': ['Samsung', 'LG', 'Apple', 'Apple', 'LG', 'Apple', 'Samsung', 'Samsung', 'LG', 'ZTE'],\n",
    "    'stock_count': [54, 33, 122, 18, 102, 43, 77, 143, 60, 19]\n",
    "}\n",
    "purchase_log = {\n",
    "    'purchase_id': [101, 101, 101, 112, 121, 145, 145, 145, 145, 221],\n",
    "    'item_id': [417283, 849734, 132223, 573943, 19475, 3294095, 382043, 302948, 103845, 100132], \n",
    "    'price': [13900, 5330, 38200, 49990, 9890, 33000, 67500, 34500, 89900, 11400]\n",
    "}\n",
    "items_df = pd.DataFrame(items_dict)\n",
    "purchase_df = pd.DataFrame(purchase_log)"
   ]
  },
  {
   "cell_type": "code",
   "execution_count": 29,
   "metadata": {},
   "outputs": [
    {
     "output_type": "execute_result",
     "data": {
      "text/plain": "    item_id   vendor  stock_count  purchase_id    price\n0    417283  Samsung         54.0        101.0  13900.0\n1    849734       LG         33.0        101.0   5330.0\n2    132223    Apple        122.0        101.0  38200.0\n3    573943    Apple         18.0        112.0  49990.0\n4     19475       LG        102.0        121.0   9890.0\n5   3294095    Apple         43.0        145.0  33000.0\n6    382043  Samsung         77.0        145.0  67500.0\n7    302948  Samsung        143.0        145.0  34500.0\n8    100132       LG         60.0        221.0  11400.0\n9    312394      ZTE         19.0          NaN      NaN\n10   103845      NaN          NaN        145.0  89900.0",
      "text/html": "<div>\n<style scoped>\n    .dataframe tbody tr th:only-of-type {\n        vertical-align: middle;\n    }\n\n    .dataframe tbody tr th {\n        vertical-align: top;\n    }\n\n    .dataframe thead th {\n        text-align: right;\n    }\n</style>\n<table border=\"1\" class=\"dataframe\">\n  <thead>\n    <tr style=\"text-align: right;\">\n      <th></th>\n      <th>item_id</th>\n      <th>vendor</th>\n      <th>stock_count</th>\n      <th>purchase_id</th>\n      <th>price</th>\n    </tr>\n  </thead>\n  <tbody>\n    <tr>\n      <td>0</td>\n      <td>417283</td>\n      <td>Samsung</td>\n      <td>54.0</td>\n      <td>101.0</td>\n      <td>13900.0</td>\n    </tr>\n    <tr>\n      <td>1</td>\n      <td>849734</td>\n      <td>LG</td>\n      <td>33.0</td>\n      <td>101.0</td>\n      <td>5330.0</td>\n    </tr>\n    <tr>\n      <td>2</td>\n      <td>132223</td>\n      <td>Apple</td>\n      <td>122.0</td>\n      <td>101.0</td>\n      <td>38200.0</td>\n    </tr>\n    <tr>\n      <td>3</td>\n      <td>573943</td>\n      <td>Apple</td>\n      <td>18.0</td>\n      <td>112.0</td>\n      <td>49990.0</td>\n    </tr>\n    <tr>\n      <td>4</td>\n      <td>19475</td>\n      <td>LG</td>\n      <td>102.0</td>\n      <td>121.0</td>\n      <td>9890.0</td>\n    </tr>\n    <tr>\n      <td>5</td>\n      <td>3294095</td>\n      <td>Apple</td>\n      <td>43.0</td>\n      <td>145.0</td>\n      <td>33000.0</td>\n    </tr>\n    <tr>\n      <td>6</td>\n      <td>382043</td>\n      <td>Samsung</td>\n      <td>77.0</td>\n      <td>145.0</td>\n      <td>67500.0</td>\n    </tr>\n    <tr>\n      <td>7</td>\n      <td>302948</td>\n      <td>Samsung</td>\n      <td>143.0</td>\n      <td>145.0</td>\n      <td>34500.0</td>\n    </tr>\n    <tr>\n      <td>8</td>\n      <td>100132</td>\n      <td>LG</td>\n      <td>60.0</td>\n      <td>221.0</td>\n      <td>11400.0</td>\n    </tr>\n    <tr>\n      <td>9</td>\n      <td>312394</td>\n      <td>ZTE</td>\n      <td>19.0</td>\n      <td>NaN</td>\n      <td>NaN</td>\n    </tr>\n    <tr>\n      <td>10</td>\n      <td>103845</td>\n      <td>NaN</td>\n      <td>NaN</td>\n      <td>145.0</td>\n      <td>89900.0</td>\n    </tr>\n  </tbody>\n</table>\n</div>"
     },
     "metadata": {},
     "execution_count": 29
    }
   ],
   "source": [
    "items_df.merge(purchase_df, how='outer', on='item_idv')"
   ]
  },
  {
   "cell_type": "code",
   "execution_count": 32,
   "metadata": {},
   "outputs": [
    {
     "output_type": "execute_result",
     "data": {
      "text/plain": "9"
     },
     "metadata": {},
     "execution_count": 32
    }
   ],
   "source": [
    "merged = items_df.merge(purchase_df, how='inner', on='item_id')\n",
    "len(merged)"
   ]
  },
  {
   "cell_type": "code",
   "execution_count": 50,
   "metadata": {},
   "outputs": [
    {
     "output_type": "execute_result",
     "data": {
      "text/plain": "6    382043\nName: item_id, dtype: int64"
     },
     "metadata": {},
     "execution_count": 50
    }
   ],
   "source": [
    "merged['tot'] = merged.stock_count * merged.price\n",
    "merged[merged.tot == merged.tot.max()].item_id"
   ]
  },
  {
   "cell_type": "code",
   "execution_count": 52,
   "metadata": {},
   "outputs": [
    {
     "output_type": "execute_result",
     "data": {
      "text/plain": "19729490"
     },
     "metadata": {},
     "execution_count": 52
    }
   ],
   "source": [
    "merged.tot.sum()"
   ]
  },
  {
   "cell_type": "code",
   "execution_count": 54,
   "metadata": {},
   "outputs": [
    {
     "output_type": "execute_result",
     "data": {
      "text/plain": "['ratings_8.txt',\n 'ratings_9.txt',\n 'ratings_10.txt',\n 'ratings_7.txt',\n 'ratings_6.txt',\n 'ratings_4.txt',\n 'ratings_5.txt',\n 'ratings_1.txt',\n 'ratings_2.txt',\n 'ratings_3.txt']"
     },
     "metadata": {},
     "execution_count": 54
    }
   ],
   "source": [
    "files = os.listdir('data')\n",
    "files"
   ]
  },
  {
   "cell_type": "code",
   "execution_count": 73,
   "metadata": {},
   "outputs": [],
   "source": [
    "import re\n",
    "files = ['setup.py', 'ratings.txt', 'stock_stats.txt', 'movies.txt', 'run.sh', 'game_of_thrones.mov']\n",
    "ends_with_txt_re = re.compile(r'\\.txt$')\n",
    "data = list(filter(lambda fn: len(ends_with_txt_re.findall(fn)) > 0, files))"
   ]
  },
  {
   "cell_type": "code",
   "execution_count": 74,
   "metadata": {},
   "outputs": [
    {
     "output_type": "execute_result",
     "data": {
      "text/plain": "['ratings.txt', 'stock_stats.txt', 'movies.txt']"
     },
     "metadata": {},
     "execution_count": 74
    }
   ],
   "source": [
    "data"
   ]
  },
  {
   "cell_type": "code",
   "execution_count": 76,
   "metadata": {},
   "outputs": [
    {
     "output_type": "stream",
     "name": "stdout",
     "text": "data ['subfolder'] ['ratings_8.txt', 'ratings_9.txt', 'ratings_10.txt', 'ratings_7.txt', 'ratings_6.txt', 'ratings_4.txt', 'ratings_5.txt', 'ratings_1.txt', 'ratings_2.txt', 'ratings_3.txt']\ndata/subfolder [] ['file_in_subfolder.txt']\n"
    }
   ],
   "source": [
    "for root, dirs, files in os.walk('data'):\n",
    "    print(root, dirs, files)"
   ]
  },
  {
   "cell_type": "code",
   "execution_count": 97,
   "metadata": {},
   "outputs": [
    {
     "output_type": "execute_result",
     "data": {
      "text/plain": "     userId movieId  rating   timestamp\n0       483    1573     2.0  1465387568\n1       483    1580     3.0  1465387435\n2       483    1676     4.0  1465387586\n3       483    1682     3.0  1465387384\n4       483    1732     5.0  1465387406\n...     ...     ...     ...         ...\n9995    213   72701     2.5  1462644086\n9996    213   72737     3.0  1462636677\n9997    213   72919     2.5  1462637308\n9998    213   72998     5.0  1462636393\n9999    213   73015     2.0  1462636831\n\n[100004 rows x 4 columns]",
      "text/html": "<div>\n<style scoped>\n    .dataframe tbody tr th:only-of-type {\n        vertical-align: middle;\n    }\n\n    .dataframe tbody tr th {\n        vertical-align: top;\n    }\n\n    .dataframe thead th {\n        text-align: right;\n    }\n</style>\n<table border=\"1\" class=\"dataframe\">\n  <thead>\n    <tr style=\"text-align: right;\">\n      <th></th>\n      <th>userId</th>\n      <th>movieId</th>\n      <th>rating</th>\n      <th>timestamp</th>\n    </tr>\n  </thead>\n  <tbody>\n    <tr>\n      <td>0</td>\n      <td>483</td>\n      <td>1573</td>\n      <td>2.0</td>\n      <td>1465387568</td>\n    </tr>\n    <tr>\n      <td>1</td>\n      <td>483</td>\n      <td>1580</td>\n      <td>3.0</td>\n      <td>1465387435</td>\n    </tr>\n    <tr>\n      <td>2</td>\n      <td>483</td>\n      <td>1676</td>\n      <td>4.0</td>\n      <td>1465387586</td>\n    </tr>\n    <tr>\n      <td>3</td>\n      <td>483</td>\n      <td>1682</td>\n      <td>3.0</td>\n      <td>1465387384</td>\n    </tr>\n    <tr>\n      <td>4</td>\n      <td>483</td>\n      <td>1732</td>\n      <td>5.0</td>\n      <td>1465387406</td>\n    </tr>\n    <tr>\n      <td>...</td>\n      <td>...</td>\n      <td>...</td>\n      <td>...</td>\n      <td>...</td>\n    </tr>\n    <tr>\n      <td>9995</td>\n      <td>213</td>\n      <td>72701</td>\n      <td>2.5</td>\n      <td>1462644086</td>\n    </tr>\n    <tr>\n      <td>9996</td>\n      <td>213</td>\n      <td>72737</td>\n      <td>3.0</td>\n      <td>1462636677</td>\n    </tr>\n    <tr>\n      <td>9997</td>\n      <td>213</td>\n      <td>72919</td>\n      <td>2.5</td>\n      <td>1462637308</td>\n    </tr>\n    <tr>\n      <td>9998</td>\n      <td>213</td>\n      <td>72998</td>\n      <td>5.0</td>\n      <td>1462636393</td>\n    </tr>\n    <tr>\n      <td>9999</td>\n      <td>213</td>\n      <td>73015</td>\n      <td>2.0</td>\n      <td>1462636831</td>\n    </tr>\n  </tbody>\n</table>\n<p>100004 rows × 4 columns</p>\n</div>"
     },
     "metadata": {},
     "execution_count": 97
    }
   ],
   "source": [
    "cols = ['userId', 'movieId', 'rating', 'timestamp']\n",
    "data = pd.DataFrame(columns = cols)\n",
    "for _, _, files in os.walk('data'):\n",
    "    for fn in files:\n",
    "        filename = os.path.join('data', fn)\n",
    "        temp = pd.read_csv(filename, names=cols)\n",
    "        data = pd.concat([data, temp])\n",
    "    break\n",
    "data"
   ]
  },
  {
   "cell_type": "markdown",
   "metadata": {},
   "source": []
  },
  {
   "cell_type": "markdown",
   "metadata": {},
   "source": [
    "# 3.15"
   ]
  },
  {
   "cell_type": "markdown",
   "metadata": {},
   "source": [
    "1 В каких случаях имеет смысл разделять большую таблицу на две со словарем?"
   ]
  },
  {
   "cell_type": "markdown",
   "metadata": {},
   "source": [
    "2 В файле ratings.csv в столбце timestamp указано время выставления оценки. Что это за формат времени?"
   ]
  },
  {
   "cell_type": "markdown",
   "metadata": {},
   "source": [
    "3 Сколько раз была выставлена низшая оценка 0.5 в наших рейтингах? Используйте файл ratings.csv."
   ]
  },
  {
   "cell_type": "code",
   "execution_count": 109,
   "metadata": {},
   "outputs": [
    {
     "output_type": "execute_result",
     "data": {
      "text/plain": "1370"
     },
     "metadata": {},
     "execution_count": 109
    }
   ],
   "source": [
    "len(joined[joined.rating == joined.rating.min()])"
   ]
  },
  {
   "cell_type": "markdown",
   "metadata": {},
   "source": [
    "4 Объедините датафреймы ratings и movies, используя параметр how='outer'.\n",
    "\n",
    "Сколько строк в получившемся датафрейме?"
   ]
  },
  {
   "cell_type": "code",
   "execution_count": 118,
   "metadata": {},
   "outputs": [
    {
     "output_type": "execute_result",
     "data": {
      "text/plain": "100854"
     },
     "metadata": {},
     "execution_count": 118
    }
   ],
   "source": [
    "len(outer)"
   ]
  },
  {
   "cell_type": "markdown",
   "metadata": {},
   "source": [
    "5 Найдите в датафрейме movies фильм с movieId=3456.\n",
    "\n",
    "Какой у него год выпуска?\n",
    "\n",
    "P. S. Попробуйте найти movieId этого фильма в датафрейме ratings. Это будет ключом к ответу на следующее задание."
   ]
  },
  {
   "cell_type": "code",
   "execution_count": 119,
   "metadata": {},
   "outputs": [
    {
     "output_type": "execute_result",
     "data": {
      "text/plain": "        userId  movieId  rating  timestamp  \\\n100839     NaN     3456     NaN        NaN   \n\n                                               title genres  \n100839  Color of Paradise, The (Rang-e khoda) (1999)  Drama  ",
      "text/html": "<div>\n<style scoped>\n    .dataframe tbody tr th:only-of-type {\n        vertical-align: middle;\n    }\n\n    .dataframe tbody tr th {\n        vertical-align: top;\n    }\n\n    .dataframe thead th {\n        text-align: right;\n    }\n</style>\n<table border=\"1\" class=\"dataframe\">\n  <thead>\n    <tr style=\"text-align: right;\">\n      <th></th>\n      <th>userId</th>\n      <th>movieId</th>\n      <th>rating</th>\n      <th>timestamp</th>\n      <th>title</th>\n      <th>genres</th>\n    </tr>\n  </thead>\n  <tbody>\n    <tr>\n      <td>100839</td>\n      <td>NaN</td>\n      <td>3456</td>\n      <td>NaN</td>\n      <td>NaN</td>\n      <td>Color of Paradise, The (Rang-e khoda) (1999)</td>\n      <td>Drama</td>\n    </tr>\n  </tbody>\n</table>\n</div>"
     },
     "metadata": {},
     "execution_count": 119
    }
   ],
   "source": [
    "outer[outer.movieId==3456]"
   ]
  },
  {
   "cell_type": "markdown",
   "metadata": {},
   "source": [
    "6 Сравните количество строк в датафрейме из задания 4 (после объединения датафреймов ratings и movies) с количеством строк в ratings. Почему в данном случае число строк увеличилось?"
   ]
  },
  {
   "cell_type": "markdown",
   "metadata": {},
   "source": [
    "7 Каким методом можно удалить дубликаты строк в датафрейме?"
   ]
  },
  {
   "cell_type": "markdown",
   "metadata": {},
   "source": [
    "8 С помощью какого метода можно получить список файлов в заданной папке?"
   ]
  },
  {
   "cell_type": "markdown",
   "metadata": {},
   "source": [
    "9 С помощью какого метода можно перебрать все файлы и папки внутри заданной?"
   ]
  },
  {
   "cell_type": "markdown",
   "metadata": {},
   "source": [
    "10 Каким способом можно склеить датафреймы с помощью метода concat?"
   ]
  },
  {
   "cell_type": "markdown",
   "metadata": {},
   "source": [
    "11 Какой параметр отвечает за режим склеивания датафреймов в методе concat (по столбцам или строкам)?"
   ]
  },
  {
   "cell_type": "code",
   "execution_count": null,
   "metadata": {},
   "outputs": [],
   "source": []
  }
 ],
 "metadata": {
  "kernelspec": {
   "display_name": "Python 3",
   "language": "python",
   "name": "python3"
  },
  "language_info": {
   "codemirror_mode": {
    "name": "ipython",
    "version": 3
   },
   "file_extension": ".py",
   "mimetype": "text/x-python",
   "name": "python",
   "nbconvert_exporter": "python",
   "pygments_lexer": "ipython3",
   "version": "3.7.4-final"
  }
 },
 "nbformat": 4,
 "nbformat_minor": 2
}