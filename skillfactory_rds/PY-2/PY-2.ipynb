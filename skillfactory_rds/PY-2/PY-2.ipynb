{
 "cells": [
  {
   "cell_type": "code",
   "execution_count": 6,
   "metadata": {},
   "outputs": [],
   "source": [
    "import pandas as pd"
   ]
  },
  {
   "cell_type": "code",
   "execution_count": 7,
   "metadata": {},
   "outputs": [],
   "source": [
    "df = pd.read_csv('./data_sf.csv')"
   ]
  },
  {
   "cell_type": "code",
   "execution_count": 8,
   "metadata": {},
   "outputs": [
    {
     "data": {
      "text/html": "<div>\n<style scoped>\n    .dataframe tbody tr th:only-of-type {\n        vertical-align: middle;\n    }\n\n    .dataframe tbody tr th {\n        vertical-align: top;\n    }\n\n    .dataframe thead th {\n        text-align: right;\n    }\n</style>\n<table border=\"1\" class=\"dataframe\">\n  <thead>\n    <tr style=\"text-align: right;\">\n      <th></th>\n      <th>Name</th>\n      <th>Age</th>\n      <th>Nationality</th>\n      <th>Club</th>\n      <th>Value</th>\n      <th>Wage</th>\n      <th>Position</th>\n    </tr>\n  </thead>\n  <tbody>\n    <tr>\n      <td>0</td>\n      <td>L. Messi</td>\n      <td>31</td>\n      <td>Argentina</td>\n      <td>FC Barcelona</td>\n      <td>110500000</td>\n      <td>565000</td>\n      <td>RF</td>\n    </tr>\n    <tr>\n      <td>1</td>\n      <td>Cristiano Ronaldo</td>\n      <td>33</td>\n      <td>Portugal</td>\n      <td>Juventus</td>\n      <td>77000000</td>\n      <td>405000</td>\n      <td>ST</td>\n    </tr>\n    <tr>\n      <td>2</td>\n      <td>Neymar Jr</td>\n      <td>26</td>\n      <td>Brazil</td>\n      <td>Paris Saint-Germain</td>\n      <td>118500000</td>\n      <td>290000</td>\n      <td>LW</td>\n    </tr>\n    <tr>\n      <td>3</td>\n      <td>De Gea</td>\n      <td>27</td>\n      <td>Spain</td>\n      <td>Manchester United</td>\n      <td>72000000</td>\n      <td>260000</td>\n      <td>GK</td>\n    </tr>\n    <tr>\n      <td>4</td>\n      <td>K. De Bruyne</td>\n      <td>27</td>\n      <td>Belgium</td>\n      <td>Manchester City</td>\n      <td>102000000</td>\n      <td>355000</td>\n      <td>RCM</td>\n    </tr>\n    <tr>\n      <td>5</td>\n      <td>E. Hazard</td>\n      <td>27</td>\n      <td>Belgium</td>\n      <td>Chelsea</td>\n      <td>93000000</td>\n      <td>340000</td>\n      <td>LF</td>\n    </tr>\n    <tr>\n      <td>6</td>\n      <td>L. Modrić</td>\n      <td>32</td>\n      <td>Croatia</td>\n      <td>Real Madrid</td>\n      <td>67000000</td>\n      <td>420000</td>\n      <td>RCM</td>\n    </tr>\n    <tr>\n      <td>7</td>\n      <td>L. Suárez</td>\n      <td>31</td>\n      <td>Uruguay</td>\n      <td>FC Barcelona</td>\n      <td>80000000</td>\n      <td>455000</td>\n      <td>RS</td>\n    </tr>\n    <tr>\n      <td>8</td>\n      <td>Sergio Ramos</td>\n      <td>32</td>\n      <td>Spain</td>\n      <td>Real Madrid</td>\n      <td>51000000</td>\n      <td>380000</td>\n      <td>RCB</td>\n    </tr>\n    <tr>\n      <td>9</td>\n      <td>J. Oblak</td>\n      <td>25</td>\n      <td>Slovenia</td>\n      <td>Atlético Madrid</td>\n      <td>68000000</td>\n      <td>94000</td>\n      <td>GK</td>\n    </tr>\n    <tr>\n      <td>10</td>\n      <td>R. Lewandowski</td>\n      <td>29</td>\n      <td>Poland</td>\n      <td>FC Bayern München</td>\n      <td>77000000</td>\n      <td>205000</td>\n      <td>ST</td>\n    </tr>\n    <tr>\n      <td>11</td>\n      <td>T. Kroos</td>\n      <td>28</td>\n      <td>Germany</td>\n      <td>Real Madrid</td>\n      <td>76500000</td>\n      <td>355000</td>\n      <td>LCM</td>\n    </tr>\n    <tr>\n      <td>12</td>\n      <td>D. Godín</td>\n      <td>32</td>\n      <td>Uruguay</td>\n      <td>Atlético Madrid</td>\n      <td>44000000</td>\n      <td>125000</td>\n      <td>CB</td>\n    </tr>\n    <tr>\n      <td>13</td>\n      <td>David Silva</td>\n      <td>32</td>\n      <td>Spain</td>\n      <td>Manchester City</td>\n      <td>60000000</td>\n      <td>285000</td>\n      <td>LCM</td>\n    </tr>\n    <tr>\n      <td>14</td>\n      <td>N. Kanté</td>\n      <td>27</td>\n      <td>France</td>\n      <td>Chelsea</td>\n      <td>63000000</td>\n      <td>225000</td>\n      <td>LDM</td>\n    </tr>\n    <tr>\n      <td>15</td>\n      <td>P. Dybala</td>\n      <td>24</td>\n      <td>Argentina</td>\n      <td>Juventus</td>\n      <td>89000000</td>\n      <td>205000</td>\n      <td>LF</td>\n    </tr>\n    <tr>\n      <td>16</td>\n      <td>H. Kane</td>\n      <td>24</td>\n      <td>England</td>\n      <td>Tottenham Hotspur</td>\n      <td>83500000</td>\n      <td>205000</td>\n      <td>ST</td>\n    </tr>\n    <tr>\n      <td>17</td>\n      <td>A. Griezmann</td>\n      <td>27</td>\n      <td>France</td>\n      <td>Atlético Madrid</td>\n      <td>78000000</td>\n      <td>145000</td>\n      <td>CAM</td>\n    </tr>\n    <tr>\n      <td>18</td>\n      <td>M. ter Stegen</td>\n      <td>26</td>\n      <td>Germany</td>\n      <td>FC Barcelona</td>\n      <td>58000000</td>\n      <td>240000</td>\n      <td>GK</td>\n    </tr>\n    <tr>\n      <td>19</td>\n      <td>T. Courtois</td>\n      <td>26</td>\n      <td>Belgium</td>\n      <td>Real Madrid</td>\n      <td>53500000</td>\n      <td>240000</td>\n      <td>GK</td>\n    </tr>\n    <tr>\n      <td>20</td>\n      <td>Sergio Busquets</td>\n      <td>29</td>\n      <td>Spain</td>\n      <td>FC Barcelona</td>\n      <td>51500000</td>\n      <td>315000</td>\n      <td>CDM</td>\n    </tr>\n    <tr>\n      <td>21</td>\n      <td>E. Cavani</td>\n      <td>31</td>\n      <td>Uruguay</td>\n      <td>Paris Saint-Germain</td>\n      <td>60000000</td>\n      <td>200000</td>\n      <td>LS</td>\n    </tr>\n    <tr>\n      <td>22</td>\n      <td>M. Neuer</td>\n      <td>32</td>\n      <td>Germany</td>\n      <td>FC Bayern München</td>\n      <td>38000000</td>\n      <td>130000</td>\n      <td>GK</td>\n    </tr>\n    <tr>\n      <td>23</td>\n      <td>S. Agüero</td>\n      <td>30</td>\n      <td>Argentina</td>\n      <td>Manchester City</td>\n      <td>64500000</td>\n      <td>300000</td>\n      <td>ST</td>\n    </tr>\n    <tr>\n      <td>24</td>\n      <td>G. Chiellini</td>\n      <td>33</td>\n      <td>Italy</td>\n      <td>Juventus</td>\n      <td>27000000</td>\n      <td>215000</td>\n      <td>LCB</td>\n    </tr>\n  </tbody>\n</table>\n</div>",
      "text/plain": "                 Name  Age Nationality                 Club      Value  \\\n0            L. Messi   31   Argentina         FC Barcelona  110500000   \n1   Cristiano Ronaldo   33    Portugal             Juventus   77000000   \n2           Neymar Jr   26      Brazil  Paris Saint-Germain  118500000   \n3              De Gea   27       Spain    Manchester United   72000000   \n4        K. De Bruyne   27     Belgium      Manchester City  102000000   \n5           E. Hazard   27     Belgium              Chelsea   93000000   \n6           L. Modrić   32     Croatia          Real Madrid   67000000   \n7           L. Suárez   31     Uruguay         FC Barcelona   80000000   \n8        Sergio Ramos   32       Spain          Real Madrid   51000000   \n9            J. Oblak   25    Slovenia      Atlético Madrid   68000000   \n10     R. Lewandowski   29      Poland    FC Bayern München   77000000   \n11           T. Kroos   28     Germany          Real Madrid   76500000   \n12           D. Godín   32     Uruguay      Atlético Madrid   44000000   \n13        David Silva   32       Spain      Manchester City   60000000   \n14           N. Kanté   27      France              Chelsea   63000000   \n15          P. Dybala   24   Argentina             Juventus   89000000   \n16            H. Kane   24     England    Tottenham Hotspur   83500000   \n17       A. Griezmann   27      France      Atlético Madrid   78000000   \n18      M. ter Stegen   26     Germany         FC Barcelona   58000000   \n19        T. Courtois   26     Belgium          Real Madrid   53500000   \n20    Sergio Busquets   29       Spain         FC Barcelona   51500000   \n21          E. Cavani   31     Uruguay  Paris Saint-Germain   60000000   \n22           M. Neuer   32     Germany    FC Bayern München   38000000   \n23          S. Agüero   30   Argentina      Manchester City   64500000   \n24       G. Chiellini   33       Italy             Juventus   27000000   \n\n      Wage Position  \n0   565000       RF  \n1   405000       ST  \n2   290000       LW  \n3   260000       GK  \n4   355000      RCM  \n5   340000       LF  \n6   420000      RCM  \n7   455000       RS  \n8   380000      RCB  \n9    94000       GK  \n10  205000       ST  \n11  355000      LCM  \n12  125000       CB  \n13  285000      LCM  \n14  225000      LDM  \n15  205000       LF  \n16  205000       ST  \n17  145000      CAM  \n18  240000       GK  \n19  240000       GK  \n20  315000      CDM  \n21  200000       LS  \n22  130000       GK  \n23  300000       ST  \n24  215000      LCB  "
     },
     "execution_count": 8,
     "metadata": {},
     "output_type": "execute_result"
    }
   ],
   "source": [
    "small_df = df[df.columns[1:8]].head(25)\n",
    "small_df"
   ]
  },
  {
   "cell_type": "code",
   "execution_count": 9,
   "metadata": {},
   "outputs": [
    {
     "data": {
      "text/plain": "Spain        4\nBelgium      3\nUruguay      3\nGermany      3\nArgentina    3\nFrance       2\nItaly        1\nBrazil       1\nCroatia      1\nSlovenia     1\nPoland       1\nEngland      1\nPortugal     1\nName: Nationality, dtype: int64"
     },
     "metadata": {},
     "output_type": "display_data"
    }
   ],
   "source": [
    "s = small_df['Nationality'].value_counts()\n",
    "display(s)"
   ]
  },
  {
   "cell_type": "code",
   "execution_count": 10,
   "metadata": {},
   "outputs": [
    {
     "data": {
      "text/plain": "Shonan Bellmare      30\nV-Varen Nagasaki     30\nPadova               29\nDe Graafschap        29\nVissel Kobe          29\n                     ..\nCruzeiro              8\nDinamo Zagreb         7\nGD Chaves             7\nVitória Guimarães     7\nAtlético Mineiro      6\nName: Club, Length: 650, dtype: int64"
     },
     "execution_count": 10,
     "metadata": {},
     "output_type": "execute_result"
    }
   ],
   "source": [
    "df['Club'].value_counts()"
   ]
  },
  {
   "cell_type": "markdown",
   "metadata": {},
   "source": [
    "Данные об игроках каких позиций (Position) занимают более 10% датасета?"
   ]
  },
  {
   "cell_type": "code",
   "execution_count": 11,
   "metadata": {},
   "outputs": [
    {
     "data": {
      "text/plain": "GK    0.127239\nST    0.117237\nCB    0.108785\nName: Position, dtype: float64"
     },
     "execution_count": 11,
     "metadata": {},
     "output_type": "execute_result"
    }
   ],
   "source": [
    "p = df['Position'].value_counts(normalize=True)\n",
    "p[p >= 0.1]"
   ]
  },
  {
   "cell_type": "code",
   "execution_count": 12,
   "metadata": {},
   "outputs": [
    {
     "data": {
      "text/plain": "LS     0.009382\nRS     0.008839\nRWB    0.005428\nLWB    0.004652\nCF     0.003954\nLF     0.000620\nLAM    0.000465\nRF     0.000465\nRAM    0.000388\nName: Position, dtype: float64"
     },
     "execution_count": 12,
     "metadata": {},
     "output_type": "execute_result"
    }
   ],
   "source": [
    "p[p < 0.01]"
   ]
  },
  {
   "cell_type": "code",
   "execution_count": 13,
   "metadata": {},
   "outputs": [],
   "source": [
    "small_df = df[df.columns[0:7]].head(25)"
   ]
  },
  {
   "cell_type": "code",
   "execution_count": 14,
   "metadata": {},
   "outputs": [],
   "source": [
    "s = small_df['Wage'].value_counts(bins=4)"
   ]
  },
  {
   "cell_type": "code",
   "execution_count": 15,
   "metadata": {},
   "outputs": [
    {
     "data": {
      "text/plain": "(211750.0, 329500.0]     9\n(93528.999, 211750.0]    8\n(329500.0, 447250.0]     6\n(447250.0, 565000.0]     2\nName: Wage, dtype: int64"
     },
     "metadata": {},
     "output_type": "display_data"
    }
   ],
   "source": [
    "display(s)"
   ]
  },
  {
   "cell_type": "code",
   "execution_count": 16,
   "metadata": {},
   "outputs": [
    {
     "data": {
      "text/plain": "Interval(447250.0, 565000.0, closed='right')"
     },
     "execution_count": 16,
     "metadata": {},
     "output_type": "execute_result"
    }
   ],
   "source": [
    "s.index[3]"
   ]
  },
  {
   "cell_type": "code",
   "execution_count": 17,
   "metadata": {},
   "outputs": [
    {
     "data": {
      "text/plain": "447250.0"
     },
     "execution_count": 17,
     "metadata": {},
     "output_type": "execute_result"
    }
   ],
   "source": [
    "s.index[3].left"
   ]
  },
  {
   "cell_type": "markdown",
   "metadata": {},
   "source": [
    "В каких пределах находятся худшие 20% показателей точности ударов ногой (FKAccuracy)?"
   ]
  },
  {
   "cell_type": "code",
   "execution_count": 18,
   "metadata": {},
   "outputs": [
    {
     "data": {
      "text/plain": "(21.2, 39.4]     4859\n(39.4, 57.6]     3957\n(57.6, 75.8]     2108\n(2.908, 21.2]    1760\n(75.8, 94.0]      213\nName: FKAccuracy, dtype: int64"
     },
     "execution_count": 18,
     "metadata": {},
     "output_type": "execute_result"
    }
   ],
   "source": [
    "df['FKAccuracy'].value_counts(bins=100/20)"
   ]
  },
  {
   "cell_type": "markdown",
   "metadata": {},
   "source": [
    "Какие показатели точности ударов ногой демонстрирует большинство футболистов?"
   ]
  },
  {
   "cell_type": "code",
   "execution_count": 19,
   "metadata": {},
   "outputs": [],
   "source": [
    "s = df['Nationality'].value_counts()"
   ]
  },
  {
   "cell_type": "code",
   "execution_count": 20,
   "metadata": {},
   "outputs": [
    {
     "data": {
      "text/plain": "Index(['England', 'Germany', 'Spain', 'France', 'Argentina', 'Italy',\n       'Colombia', 'Japan', 'Brazil', 'China PR',\n       ...\n       'Lebanon', 'Jordan', 'Philippines', 'Guam', 'Belize', 'Malta',\n       'Ethiopia', 'Palestine', 'Mauritius', 'Central African Rep.'],\n      dtype='object', length=156)"
     },
     "execution_count": 20,
     "metadata": {},
     "output_type": "execute_result"
    }
   ],
   "source": [
    "s.index.unique()"
   ]
  },
  {
   "cell_type": "code",
   "execution_count": 21,
   "metadata": {},
   "outputs": [
    {
     "data": {
      "text/plain": "27"
     },
     "execution_count": 21,
     "metadata": {},
     "output_type": "execute_result"
    }
   ],
   "source": [
    "len(df['Position'].value_counts()) "
   ]
  },
  {
   "cell_type": "markdown",
   "metadata": {},
   "source": [
    "# 2.6"
   ]
  },
  {
   "cell_type": "markdown",
   "metadata": {},
   "source": [
    "1. У какого процента испанских специалистов (Nationality = 'Spain') зарплата (Wage) находится в пределах 25% минимума от наблюдаемого уровня зарплат? Ответ дайте в виде целого числа (округлите полученный результат) без знака %."
   ]
  },
  {
   "cell_type": "code",
   "execution_count": 22,
   "metadata": {},
   "outputs": [
    {
     "data": {
      "text/plain": "(620.999, 95750.0]      0.970194\n(95750.0, 190500.0]     0.016393\n(190500.0, 285250.0]    0.008942\n(285250.0, 380000.0]    0.004471\nName: Wage, dtype: float64"
     },
     "execution_count": 22,
     "metadata": {},
     "output_type": "execute_result"
    }
   ],
   "source": [
    "df[df.Nationality == 'Spain'].Wage.value_counts(bins=4, normalize=True)"
   ]
  },
  {
   "cell_type": "markdown",
   "metadata": {},
   "source": [
    "2. Укажите количество уникальных сборных (Nationality), к которым относятся футболисты, выступающие за клуб (Club) \"Manchester United\"."
   ]
  },
  {
   "cell_type": "code",
   "execution_count": 23,
   "metadata": {},
   "outputs": [
    {
     "data": {
      "text/plain": "13"
     },
     "execution_count": 23,
     "metadata": {},
     "output_type": "execute_result"
    }
   ],
   "source": [
    "df[df.Club == 'Manchester United'].Nationality.nunique()"
   ]
  },
  {
   "cell_type": "markdown",
   "metadata": {},
   "source": [
    "3. С помощью функции unique определите двух футболистов из Бразилии (Nationality = 'Brazil'), выступающих за клуб (Club) 'Juventus'. Перечислите их имена (Name, как в датафрейме) через запятую в алфавитном порядке."
   ]
  },
  {
   "cell_type": "code",
   "execution_count": 24,
   "metadata": {},
   "outputs": [
    {
     "data": {
      "text/plain": "64      Alex Sandro\n65    Douglas Costa\nName: Name, dtype: object"
     },
     "execution_count": 24,
     "metadata": {},
     "output_type": "execute_result"
    }
   ],
   "source": [
    "df[(df.Nationality == 'Brazil') & (df.Club == 'Juventus')].Name"
   ]
  },
  {
   "cell_type": "markdown",
   "metadata": {},
   "source": [
    "4. Укажите, какой из клубов (Club) насчитывает большее количество футболистов возрастом (Age) старше 35 лет."
   ]
  },
  {
   "cell_type": "code",
   "execution_count": 25,
   "metadata": {},
   "outputs": [
    {
     "data": {
      "text/plain": "Hokkaido Consadole Sapporo    4\nClub Atlético Huracán         4\nNagoya Grampus                3\nEstudiantes de La Plata       3\nBenevento                     3\n                             ..\nAJ Auxerre                    1\nAl Taawoun                    1\nMacclesfield Town             1\nZagłębie Sosnowiec            1\nFoggia                        1\nName: Club, Length: 212, dtype: int64"
     },
     "execution_count": 25,
     "metadata": {},
     "output_type": "execute_result"
    }
   ],
   "source": [
    "df[df.Age > 35].Club.value_counts()"
   ]
  },
  {
   "cell_type": "markdown",
   "metadata": {},
   "source": [
    "5. С помощью функции value_counts с параметром bins разбейте всех футболистов сборной (Nationality) Аргентины ('Argentina') на 4 равные группы. Укажите, сколько футболистов в возрасте от 34.75 до 41 года в сборной Аргентины."
   ]
  },
  {
   "cell_type": "code",
   "execution_count": 26,
   "metadata": {},
   "outputs": [
    {
     "data": {
      "text/plain": "(22.25, 28.5]      200\n(15.974, 22.25]    197\n(28.5, 34.75]      128\n(34.75, 41.0]       49\nName: Age, dtype: int64"
     },
     "execution_count": 26,
     "metadata": {},
     "output_type": "execute_result"
    }
   ],
   "source": [
    "df[df.Nationality == 'Argentina'].Age.value_counts(bins=4)"
   ]
  },
  {
   "cell_type": "markdown",
   "metadata": {},
   "source": [
    "6. Сколько процентов футболистов из Испании (Nationality = 'Spain') имеют возраст (Age) 21 год? Введите с точностью до 2 знаков после запятой без указания знака % (например, 12.35)."
   ]
  },
  {
   "cell_type": "code",
   "execution_count": 27,
   "metadata": {},
   "outputs": [
    {
     "data": {
      "text/plain": "21    0.117735\n22    0.095380\n20    0.077496\n23    0.071535\n25    0.064083\n27    0.062593\n24    0.059613\n28    0.053651\n26    0.053651\n29    0.047690\n19    0.047690\n18    0.038748\n30    0.038748\n31    0.032787\n32    0.032787\n33    0.031297\n34    0.022355\n17    0.013413\n35    0.011923\n36    0.010432\n37    0.008942\n39    0.002981\n16    0.002981\n38    0.001490\nName: Age, dtype: float64"
     },
     "execution_count": 27,
     "metadata": {},
     "output_type": "execute_result"
    }
   ],
   "source": [
    "df[df.Nationality == 'Spain'].Age.value_counts(normalize=True)"
   ]
  },
  {
   "cell_type": "markdown",
   "metadata": {},
   "source": [
    "# 2.7"
   ]
  },
  {
   "cell_type": "code",
   "execution_count": 28,
   "metadata": {},
   "outputs": [
    {
     "data": {
      "text/plain": "4, 10814],\n            dtype='int64'),\n 'Stade Malherbe Caen': Int64Index([  498,   843,   987,  1098,  1364,  2197,  2487,  3235,  3342,\n              5141,  6178,  6559,  8701, 10315, 12810],\n            dtype='int64'),\n 'Stade Rennais FC': Int64Index([438, 551, 660, 780, 1021, 1026, 1320, 1425, 1964, 7248, 9640, 9648,\n             9915],\n            dtype='int64'),\n 'Stade de Reims': Int64Index([  978,  1865,  2071,  3248,  5187,  5562,  5827,  7089,  8517,\n              9320, 11231, 11922, 12086, 12150],\n            dtype='int64'),\n 'Standard de Liège': Int64Index([655, 872, 1081, 1210, 1621, 1683, 3616, 3719, 3901, 4085, 8196,\n             9508, 9906],\n            dtype='int64'),\n 'Stevenage': Int64Index([ 2731,  6955,  7274,  7311,  7640,  8319,  8485,  8835,  9177,\n              9267,  9684,  9893, 10212, 10318, 10984, 11018, 11127, 11161,\n             11384, 11418, 11533, 12131, 12413, 12453, 12461, 12606, 12839,\n             12840],\n            dtype='int64'),\n 'Stoke City': Int64Index([308, 940, 1147, 1215, 4884, 5728, 6395, 7608, 8339, 8738, 9108,\n             9532],\n            dtype='int64'),\n 'Strømsgodset IF': Int64Index([ 2795,  2912,  4649,  4733,  5445,  5770,  6833,  7262,  7281,\n              7290,  7806,  7938,  8704, 10551, 11458, 11487, 11658, 11661,\n             11903],\n            dtype='int64'),\n 'Sunderland': Int64Index([ 2145,  2326,  2814,  3197,  3432,  3509,  3632,  4091,  4674,\n              4749,  5385,  5594,  8090,  9829,  9836, 10123, 11184, 11880,\n             12034, 12091],\n            dtype='int64'),\n 'Suwon Samsung Bluewings': Int64Index([ 1093,  1363,  1666,  1965,  3109,  3374,  3649,  3983,  4472,\n              4499,  4744,  4830,  4979,  5196,  5539,  6846,  7199,  8725,\n              9356, 10064, 10398, 10622],\n            dtype='int64'),\n 'Swansea City': Int64Index([805, 1138, 1376, 3384, 3394, 6500, 7596, 8442, 8780, 9396, 9608,\n             10174, 10464],\n            dtype='int64'),\n 'Swindon Town': Int64Index([ 3911,  5404,  6235,  6747,  6764,  6961,  7207,  7521,  7977,\n              7999,  8054,  8810,  9034,  9174,  9266,  9682, 10088, 11238,\n             11707, 11860, 11982, 12206, 12498, 12608, 12834, 12890],\n            dtype='int64'),\n 'Sydney FC': Int64Index([  866,  1615,  2554,  2685,  2729,  2816,  2823,  3036,  7592,\n              7681,  7970,  9463,  9531,  9683, 10669, 11392, 11662, 11672,\n             12219, 12417, 12421, 12582],\n            dtype='int64'),\n 'SønderjyskE': Int64Index([ 2988,  3291,  3707,  4263,  4656,  4693,  6035,  6263,  7024,\n              7112,  7393,  7825,  8096,  8641,  8699,  8981,  9862, 10044,\n             10664, 11327, 11394, 11655, 11680, 12326, 12709, 12797, 12844],\n            dtype='int64'),\n 'TSG 1899 Hoffenheim': Int64Index([  169,   196,   307,   389,   418,   609,   716,   760,   773,\n               946,   981,  1166,  1323,  4021,  4995,  6910,  7893,  9414,\n              9662, 10572],\n            dtype='int64'),\n 'TSV 1860 München': Int64Index([ 2690,  3310,  4469,  4654,  5366,  5427,  5866,  6072,  6671,\n              7497,  7500,  7653,  8044,  8186,  8327,  8418,  8924,  8939,\n              9038,  9246,  9540,  9565, 10221, 11283, 11461, 12794],\n            dtype='int64'),\n 'TSV Hartberg': Int64Index([ 4340,  5431,  5969,  6038,  6429,  6570,  6866,  7253,  7601,\n              7705,  8231,  8412,  8948,  9279,  9297,  9457,  9842,  9867,\n              9898, 10400, 10446, 10684, 11301, 11810, 12163, 12783],\n            dtype='int64'),\n 'Tianjin Quanjian FC': Int64Index([ 2277,  3021,  3706,  4115,  4380,  5149,  5284,  6449,  6453,\n              7579,  7594,  8966,  9214,  9497, 10350, 10598, 10872, 11279,\n             11920, 12183, 12352, 12551, 12764, 12767, 12857],\n            dtype='int64'),\n 'Tianjin TEDA FC': Int64Index([ 5962,  6422,  6457,  8121,  8234,  8352,  8879,  9136,  9331,\n              9550,  9611,  9859, 10107, 10125, 10229, 11567, 11594, 11626,\n             11628, 11939, 11962, 12100, 12145, 12642, 12746, 12825],\n            dtype='int64'),\n 'Tiburones Rojos de Veracruz': Int64Index([ 1501,  1894,  2106,  2624,  2746,  3200,  3269,  3564,  3647,\n              4103,  5192,  5215,  5727,  6298,  6865,  9232,  9621, 10570,\n             11025, 11030, 11849, 12012, 12731],\n            dtype='int64'),\n 'Tigres U.A.N.L.': Int64Index([ 341,  381,  553,  591,  726,  776,  921, 1046, 1914, 3884, 4100,\n             7880, 8342, 8721, 9039, 9052, 9082, 9306, 9310, 9412, 9983],\n            dtype='int64'),\n 'Torino': Int64Index([200, 252, 320, 325, 538, 585, 736, 982, 1859, 6170, 10006, 10392], dtype='int64'),\n 'Toronto FC': Int64Index([  216,   763,  1317,  1590,  2776,  3195,  3712,  5060,  5485,\n              5636,  5801,  6137,  6761,  6925,  8094,  9424,  9899,  9999,\n             12595, 12596],\n            dtype='int64'),\n 'Tottenham Hotspur': Int64Index([  16,   31,   37,   51,   71,  110,  117,  123,  164,  184,  275,\n              594,  648,  922, 1150, 6169, 6404, 8526, 9260, 9276, 9284],\n            dtype='int64'),\n 'Toulouse Football Club': Int64Index([518, 1380, 1453, 1545, 2441, 5480, 6073, 6386, 6550, 8448, 9490,\n             9579, 10105],\n            dtype='int64'),\n 'Trabzonspor': Int64Index([ 444,  817, 1011, 1824, 2015, 2523, 3403, 3424, 5483, 5959, 6677,\n             6766, 6863, 8009, 8694, 8769, 8945],\n            dtype='int64'),\n 'Tranmere Rovers': Int64Index([ 4454,  6591,  6895,  8396,  8579,  8713,  8820,  9253,  9285,\n              9399,  9901, 10005, 10239, 10257, 10429, 10455, 10583, 10706,\n             11049, 11179, 11286, 11378, 12187, 12507, 12847, 12895, 12896],\n            dtype='int64'),\n 'Trelleborgs FF': Int64Index([ 5363,  5850,  6484,  7303,  7410,  7688,  7848,  8132,  8332,\n              8434,  8472,  8588,  8633,  8682,  9530,  9919, 10255, 10359,\n             10459, 10789, 10973, 11103, 11213, 11981, 12162, 12601, 12893],\n            dtype='int64'),\n 'Tromsø IL': Int64Index([ 2206,  3836,  5102,  5832,  5833,  6087,  6128,  6389,  6504,\n              6890,  7188,  7415,  7547,  9607, 11265, 11425, 11472, 12529],\n            dtype='int64'),\n 'U.N.A.M.': Int64Index([ 1748,  3386,  3475,  5184,  5514,  6697,  6722,  7176,  7266,\n              8208,  8219,  9299, 10209, 10689, 10753, 11097],\n            dtype='int64'),\n 'UD Almería': Int64Index([ 1726,  2424,  2763,  3028,  3399,  3409,  3818,  4106,  4240,\n              4389,  4687,  5227,  5701,  6015,  6462,  6499,  7067,  7720,\n              7841,  8059,  8138,  9609, 10054, 10473],\n            dtype='int64'),\n 'UD Las Palmas': Int64Index([1173, 1239, 1457, 1704, 2779, 3134, 4917, 5000, 5664, 7047, 8205,\n             8927],\n            dtype='int64'),\n 'US Cremonese': Int64Index([ 1728,  1981,  2299,  2373,  2408,  2537,  2551,  2689,  3181,\n              3280,  3303,  4203,  4927,  6297,  7993, 10025, 11013, 12144],\n            dtype='int64'),\n 'US Orléans Loiret Football': Int64Index([ 2178,  3307,  3425,  4011,  4385,  4410,  4490,  4604,  6021,\n              6360,  6477,  6501,  6779,  7236,  7466,  7809,  7872,  8031,\n              8453,  8520,  9298, 10370, 10730, 11201, 11846],\n            dtype='int64'),\n 'US Salernitana 1919': Int64Index([ 1386,  2099,  2204,  2262,  2577,  2802,  2857,  2946,  3122,\n              3576,  4205,  4589,  4780,  5464,  8290,  8538, 12360],\n            dtype='int64'),\n 'Udinese': Int64Index([613, 715, 847, 904, 920, 2059, 3338, 4890, 5262], dtype='int64'),\n 'Ulsan Hyundai FC': Int64Index([ 2080,  2229,  2259,  2657,  3568,  3929,  3937,  4166,  4390,\n              4462,  4713,  4736,  5328,  5849,  6515,  7254,  8384,  8389,\n              8604,  8734,  9048, 10124],\n            dtype='int64'),\n 'Universidad Católica': Int64Index([ 1445,  4061,  4647,  4762,  5506,  9446,  9512, 10336, 10703,\n             11717, 11791, 12071, 12379],\n            dtype='int64'),\n 'Universidad de Chile': Int64Index([1361, 1447, 1658, 2044, 2588, 2649, 5068, 8943, 9566, 10491,\n             11901],\n            dtype='int64'),\n 'Unión Española': Int64Index([ 2045,  2137,  2860,  3344,  3414,  3454,  3577,  3726,  4492,\n              4845,  5158,  7385,  8257,  8822,  8971,  9466,  9776, 10476,\n             10805, 11157, 12072, 12109, 12287, 12883],\n            dtype='int64'),\n 'Unión La Calera': Int64Index([ 1739,  2177,  2232,  2417,  2721,  2778,  2990,  3629,  4419,\n              5066,  5167,  5191,  5592,  5891,  6338,  7099,  8586,  9242,\n             10115, 10539, 10890, 12024, 12117, 12567],\n            dtype='int64'),\n 'Unión de Santa Fe': Int64Index([ 1328,  1519,  2626,  3670,  5206,  7308,  7392,  8646,  8723,\n              8752,  9004,  9525,  9647,  9721, 10245, 10518, 11029],\n            dtype='int64'),\n 'Urawa Red Diamonds': Int64Index([  958,  2673,  3080,  3504,  3527,  3716,  4607,  4750,  5495,\n              6416,  7216,  8599,  9816,  9820, 10120, 10160, 11203, 11615,\n             12328],\n            dtype='int64'),\n 'V-Varen Nagasaki': Int64Index([ 1789,  2429,  3613,  5301,  6006,  6397,  6538,  6649,  6664,\n              6898,  6933,  8227,  8522,  8859,  9354,  9474,  9773,  9880,\n             10069, 10492, 10651, 10798, 10897, 11000, 11957, 12157, 12224,\n             12254, 12434, 12535],\n            dtype='int64'),\n 'VVV-Venlo': Int64Index([  786,  2713,  2745,  2808,  2825,  3066,  3478,  3539,  3806,\n              4033,  4037,  4429,  4640,  5087,  5533,  6412,  6474,  6615,\n             10094, 10415, 10547, 10888, 10966, 10971, 11419],\n            dtype='int64'),\n 'Valencia CF': Int64Index([  90,  168,  193,  203,  227,  274,  286,  299,  309,  420,  633,\n              661,  809, 1270, 5703, 6094, 6378, 6899, 7538, 7899, 8527, 8912],\n            dtype='int64'),\n 'Valenciennes FC': Int64Index([ 1764,  1816,  2055,  2783,  3449,  3551,  4313,  4357,  4425,\n              5088,  5618,  6599,  7041,  7797,  8328,  9340,  9514,  9777,\n             10179, 10481, 10816, 11364, 11616, 11937, 12005, 12285],\n            dtype='int64'),\n 'Vancouver Whitecaps FC': Int64Index([ 1465,  2198,  2431,  2589,  2635,  2822,  2919,  3560,  3853,\n              4335,  4686,  5246,  5454,  5763,  5915,  6938,  7108, 10016,\n             12583, 12889],\n            dtype='int64'),\n 'Vegalta Sendai': Int64Index([ 1957,  2938,  3819,  4430,  4534,  5518,  5834,  5846,  6441,\n              6738,  6811,  6940,  6954,  7418,  7464,  7627,  7868,  7911,\n              9332,  9395,  9624, 10091, 10889, 11009, 11428, 11850, 12381],\n            dtype='int64'),\n 'Vejle Boldklub': Int64Index([ 2914,  3131,  3515,  3978,  6585,  6666,  6676,  6862,  7177,\n              7278,  7324,  7398,  7479,  7637,  7994,  8348, 10369, 10695,\n             11698, 11766, 11997, 12102, 12622, 12732, 12791, 12853],\n            dtype='int64'),\n 'Vendsyssel FF': Int64Index([ 3905,  4094,  4660,  4984,  6365,  6674,  6681,  6808,  6861,\n              6948,  7122,  7501,  7827,  8657,  8672,  8681,  8702,  9379,\n              9665, 10667, 10965, 11396, 11576, 11765, 12013, 12489, 12655],\n            dtype='int64'),\n 'Venezia FC': Int64Index([ 1582,  1648,  1837,  1860,  2134,  2294,  2363,  3669,  3924,\n              4421,  4552,  5906,  7264,  7658,  7742,  8126,  8167,  9289,\n              9844, 11276, 11471, 12023],\n            dtype='int64'),\n 'VfB Stuttgart': Int64Index([317, 342, 422, 451, 470, 832, 1297, 2115, 2720, 3900, 7472, 8045,\n             8309, 10290],\n            dtype='int64'),\n 'VfL Bochum 1848': Int64Index([ 1486,  1514,  1546,  2039,  2052,  2307,  2469,  4634,  5422,\n              7230,  8447,  8850,  9029, 10659, 11817, 12044],\n            dtype='int64'),\n 'VfL Osnabrück': Int64Index([ 2975,  3089,  3355,  3792,  3872,  4003,  4297,  4732,  4754,\n              5122,  5260,  5797,  6342,  8844,  9564,  9586,  9852, 10060,\n             10172, 10329, 10431, 11239, 12234, 12483, 12487],\n            dtype='int64'),\n 'VfL Sportfreunde Lotte': Int64Index([ 3793,  3874,  4711,  4908,  4977,  5061,  5790,  5870,  6393,\n              6415,  6875,  7315,  7525,  7676,  7750,  8278,  8899,  9011,\n              9408,  9677,  9688, 10230, 10267, 10625, 10754, 10978, 11485,\n             11664],\n            dtype='int64'),\n 'VfL Wolfsburg': Int64Index([  387,   391,   406,   467,   695,   752,   759,   819,   881,\n               901,   951,  4685,  5133,  8053,  9670, 10297, 10520],\n            dtype='int64'),\n 'VfR Aalen': Int64Index([ 1888,  2026,  3189,  3535,  3570,  3970,  4179,  5164,  5778,\n              5988,  6109,  6408,  7110,  7401,  7603,  7785,  9567,  9966,\n             10646, 10649, 11429, 11459, 12112, 12325],\n            dtype='int64'),\n 'Viktoria Plzeň': Int64Index([995, 1268, 1488, 1738, 2097, 3048, 5024, 5027, 5034, 5218, 8856,\n             10143, 10586],\n            dtype='int64'),\n 'Villarreal CF': Int64Index([ 132,  155,  158,  236,  246,  318,  328,  367,  410,  772,  874,\n             1032, 1107, 3979, 4039, 5940, 7634, 7925, 8411, 9153],\n            dtype='int64'),\n 'Vissel Kobe': Int64Index([   76,  2647,  2907,  3476,  3774,  3953,  4017,  4673,  5590,\n              5968,  5971,  6965,  7285,  7602,  7727,  7755,  8417,  8426,\n              8568,  9996, 10375, 10501, 11278, 11497, 11595, 12041, 12043,\n             12451, 12462],\n            dtype='int64'),\n 'Vitesse': Int64Index([ 1029,  1203,  1296,  1811,  3689,  4857,  4963,  5610,  6628,\n              7567,  8950,  9780, 10062, 11104],\n            dtype='int64'),\n 'Vitória': Int64Index([955, 1619, 1797, 1840, 1844, 2218, 2270, 2973, 3286, 4206, 4245,\n             6990],\n            dtype='int64'),\n 'Vitória Guimarães': Int64Index([656, 839, 1120, 1237, 1630, 3372, 5577], dtype='int64'),\n 'Vitória de Setúbal': Int64Index([1349, 1744, 1749, 1762, 2215, 2718, 3105, 3199, 4529, 5957, 6019,\n             6753, 7131, 8570],\n            dtype='int64'),\n 'Vålerenga Fotball': Int64Index([ 2068,  3161,  3187,  3239,  3723,  3739,  4057,  4260,  4350,\n              5241,  6573,  8370,  8996,  9008,  9518,  9714, 11526, 11841,\n             12442, 12464, 12479, 12611, 12714],\n            dtype='int64'),\n 'Vélez Sarsfield': Int64Index([ 1612,  2102,  2609,  4082,  5173,  5315,  7009,  7985,  8204,\n              9143,  9592,  9694, 10022, 10373, 10394, 11219, 11549, 11744],\n            dtype='int64'),\n 'Waasland-Beveren': Int64Index([ 3683,  4002,  4452,  4479,  4705,  4899,  5708,  6241,  6293,\n              6303,  6600,  6648,  6842,  6952,  7414,  7506,  7675,  7802,\n              8918,  9168,  9348,  9364, 10127],\n            dtype='int64'),\n 'Walsall': Int64Index([ 2364,  3075,  3553,  3687,  3767,  4365,  4570,  4681,  5007,\n              5554,  5619,  5876,  6545,  7433,  7644,  7700,  8159,  8395,\n              8608,  9183,  9350, 10152, 11306, 11953, 12351],\n            dtype='int64'),\n 'Waterford FC': Int64Index([ 3088,  7282,  7425,  8462,  8559,  8815,  9047,  9173,  9278,\n              9775, 10055, 10264, 10711, 10898, 11437, 11486, 11657, 11720,\n             12292, 12509, 12546, 12774, 12790, 12885, 12891],\n            dtype='int64'),\n 'Watford': Int64Index([556, 676, 748, 793, 1043, 1183, 1367, 7607, 9582, 10147, 10468,\n             12683],\n            dtype='int64'),\n 'Wellington Phoenix': Int64Index([ 2328,  3556,  3857,  4930,  5460,  6506,  6532,  6827,  6882,\n              6926,  9934, 10037, 10047, 10418, 10543, 10865, 10950, 11905,\n             12449],\n            dtype='int64'),\n 'West Bromwich Albion': Int64Index([ 575,  686,  692,  836,  945, 1388, 1467, 1664, 2634, 3680, 4386,\n             4556, 5723, 5990, 7297, 8830, 9336, 9338, 9556],\n            dtype='int64'),\n 'West Ham United': Int64Index([  217,   264,   277,   315,   417,   429,   568,   593,   602,\n               625,   659,   802,   812,   845,   859,  1253,  1325,  5863,\n              8114,  8220, 10499, 10639, 11039, 11336],\n            dtype='int64'),\n 'Western Sydney Wanderers': Int64Index([ 1927,  1956,  4138,  4866,  4955,  5671,  7075,  7861,  7990,\n              8509,  8750, 10249, 10488, 10599, 10780, 11617, 11731, 12161,\n             12674, 12742, 12776],\n            dtype='int64'),\n 'Wigan Athletic': Int64Index([1951, 3126, 3316, 3718, 4443, 4804, 5182, 11028, 11155, 11703,\n             12021, 12026],\n            dtype='int64'),\n 'Willem II': Int64Index([  856,  1341,  1972,  2082,  2394,  2587,  2708,  3375,  3486,\n              3624,  3682,  3852,  4055,  5634,  6177,  7641,  8806,  9194,\n              9597,  9702, 10129, 10698, 11483, 12188],\n            dtype='int64'),\n 'Wisła Kraków': Int64Index([ 1680,  1806,  2512,  3145,  3621,  4083,  4108,  4162,  6204,\n              6421,  7034,  7103,  7174,  7250,  7409,  8804, 11477, 11675,\n             12107, 12344, 12408, 12557, 12643],\n            dtype='int64'),\n 'Wisła Płock': Int64Index([ 2909,  3907,  4012,  4355,  4692,  5242,  6528,  7213,  8055,\n              8188,  8265,  8368,  8779,  9045,  9272,  9536,  9680,  9792,\n             10729, 12279, 12457, 12558, 12690, 12852],\n            dtype='int64'),\n 'Wolfsberger AC': Int64Index([ 2064,  3264,  4273,  4878,  4902,  5415,  5869,  5872,  6294,\n              6762,  7053,  7202,  7271,  7299,  7542,  8277, 10763, 11101,\n             11909, 11924, 12073, 12536, 12677, 12678],\n            dtype='int64'),\n 'Wolverhampton Wanderers': Int64Index([  278,   485,   499,   680,   891,  1028,  1109,  2994,  4185,\n              4690,  8577,  9995, 10314, 10636, 10878, 11273, 11574, 12053,\n             12094, 12201],\n            dtype='int64'),\n 'Wycombe Wanderers': Int64Index([ 3410,  3586,  4394,  4426,  4573,  4876,  4958,  5318,  5428,\n              5640,  5811,  5886,  6190,  6206,  6350,  6651,  7109,  7845,\n              8282,  8602,  8758,  9924, 11036, 11178],\n            dtype='int64'),\n 'Yeni Malatyaspor': Int64Index([ 1071,  1373,  1701,  1963,  2242,  2806,  2948,  3361,  3886,\n              4379,  5456,  6127,  7889,  8674,  9667,  9883, 10244, 10556,\n             10714, 11521, 11844, 12088],\n            dtype='int64'),\n 'Yeovil Town': Int64Index([ 6198,  6300,  6330,  6791,  7010,  7339,  7586,  7807,  7906,\n              7907,  8259,  8406,  8836,  8891,  8925,  9273,  9570,  9573,\n              9781,  9797, 10070, 10296, 10721, 11376, 11683, 11868, 12215,\n             12448],\n            dtype='int64'),\n 'Yokohama F. Marinos': Int64Index([ 2474,  2477,  2593,  3312,  4099,  4111,  4638,  5009,  5313,\n              6272,  6394,  6986,  7002,  8149,  8873, 10679, 11358, 12033,\n             12089, 12090, 12095, 12291, 12307, 12521, 12623, 12737],\n            dtype='int64'),\n 'Zagłębie Lubin': Int64Index([ 1883,  3405,  3447,  4248,  4342,  4636,  4939,  4952,  5402,\n              5826,  6287,  6339,  6396,  7121,  7169,  7811,  8027,  8555,\n              9911, 10050, 10512, 11930, 12197, 12444, 12793],\n            dtype='int64'),\n 'Zagłębie Sosnowiec': Int64Index([ 5189,  5287,  5953,  6067,  6617,  6716,  6783,  7004,  7165,\n              7528,  7736,  7762,  8016,  8492,  9187,  9881, 10083, 10403,\n             10482, 10514, 10757, 10886, 12175, 12563, 12693],\n            dtype='int64'),\n 'Çaykur Rizespor': Int64Index([ 1006,  1437,  1484,  1490,  2175,  2390,  2623,  2751,  2757,\n              2877,  3443,  4059,  4893,  5247,  5248,  7887,  9815, 10087,\n             10386, 10836, 11415, 11712],\n            dtype='int64'),\n 'Örebro SK': Int64Index([ 2722,  2940,  3974,  5015,  5067,  5185,  5681,  6004,  6199,\n              6869,  6977,  7242,  7916,  8809,  8992, 10500, 10755, 11436,\n             11518, 11645, 11811, 11904, 12405, 12432, 12645, 12856],\n            dtype='int64'),\n 'Östersunds FK': Int64Index([ 2300,  3144,  3233,  4072,  4790,  4997,  5071,  5108,  5579,\n              5851,  6891,  6934,  7294,  7504,  7729,  8753,  8919, 10282,\n             11489, 12721],\n            dtype='int64'),\n 'Śląsk Wrocław': Int64Index([ 1676,  1784,  2098,  2607,  2901,  3082,  3791,  3986,  4414,\n              4587,  4682,  5375,  5398,  9042,  9393, 10142, 10144, 11314,\n             11432, 11940, 11965, 12040, 12190, 12264],\n            dtype='int64')}"
     },
     "execution_count": 28,
     "metadata": {},
     "output_type": "execute_result"
    }
   ],
   "source": [
    "df.groupby(['Club']).groups"
   ]
  },
  {
   "cell_type": "code",
   "execution_count": 29,
   "metadata": {},
   "outputs": [
    {
     "data": {
      "text/html": "<div>\n<style scoped>\n    .dataframe tbody tr th:only-of-type {\n        vertical-align: middle;\n    }\n\n    .dataframe tbody tr th {\n        vertical-align: top;\n    }\n\n    .dataframe thead th {\n        text-align: right;\n    }\n</style>\n<table border=\"1\" class=\"dataframe\">\n  <thead>\n    <tr style=\"text-align: right;\">\n      <th></th>\n      <th>Unnamed: 0</th>\n      <th>Age</th>\n      <th>Value</th>\n      <th>Wage</th>\n      <th>Crossing</th>\n      <th>Finishing</th>\n      <th>HeadingAccuracy</th>\n      <th>ShortPassing</th>\n      <th>Volleys</th>\n      <th>Dribbling</th>\n      <th>...</th>\n      <th>Penalties</th>\n      <th>Composure</th>\n      <th>Marking</th>\n      <th>StandingTackle</th>\n      <th>SlidingTackle</th>\n      <th>GKDiving</th>\n      <th>GKHandling</th>\n      <th>GKKicking</th>\n      <th>GKPositioning</th>\n      <th>GKReflexes</th>\n    </tr>\n    <tr>\n      <th>Club</th>\n      <th></th>\n      <th></th>\n      <th></th>\n      <th></th>\n      <th></th>\n      <th></th>\n      <th></th>\n      <th></th>\n      <th></th>\n      <th></th>\n      <th></th>\n      <th></th>\n      <th></th>\n      <th></th>\n      <th></th>\n      <th></th>\n      <th></th>\n      <th></th>\n      <th></th>\n      <th></th>\n      <th></th>\n    </tr>\n  </thead>\n  <tbody>\n    <tr>\n      <td>SSV Jahn Regensburg</td>\n      <td>129124</td>\n      <td>609</td>\n      <td>15195000</td>\n      <td>90000</td>\n      <td>1104</td>\n      <td>944</td>\n      <td>1283</td>\n      <td>1362</td>\n      <td>944</td>\n      <td>1196</td>\n      <td>...</td>\n      <td>1042</td>\n      <td>1332</td>\n      <td>1205</td>\n      <td>1146</td>\n      <td>1088</td>\n      <td>405</td>\n      <td>406</td>\n      <td>368</td>\n      <td>409</td>\n      <td>424</td>\n    </tr>\n    <tr>\n      <td>1. FC Heidenheim 1846</td>\n      <td>117834</td>\n      <td>473</td>\n      <td>18290000</td>\n      <td>76000</td>\n      <td>961</td>\n      <td>860</td>\n      <td>955</td>\n      <td>1136</td>\n      <td>846</td>\n      <td>1040</td>\n      <td>...</td>\n      <td>923</td>\n      <td>1093</td>\n      <td>888</td>\n      <td>952</td>\n      <td>890</td>\n      <td>335</td>\n      <td>317</td>\n      <td>287</td>\n      <td>335</td>\n      <td>306</td>\n    </tr>\n    <tr>\n      <td>1. FC Kaiserslautern</td>\n      <td>167351</td>\n      <td>544</td>\n      <td>11195000</td>\n      <td>33000</td>\n      <td>1106</td>\n      <td>918</td>\n      <td>1133</td>\n      <td>1272</td>\n      <td>899</td>\n      <td>1131</td>\n      <td>...</td>\n      <td>1030</td>\n      <td>1174</td>\n      <td>938</td>\n      <td>989</td>\n      <td>996</td>\n      <td>392</td>\n      <td>373</td>\n      <td>348</td>\n      <td>368</td>\n      <td>356</td>\n    </tr>\n    <tr>\n      <td>1. FC Köln</td>\n      <td>54865</td>\n      <td>225</td>\n      <td>46810000</td>\n      <td>92000</td>\n      <td>444</td>\n      <td>357</td>\n      <td>434</td>\n      <td>567</td>\n      <td>320</td>\n      <td>486</td>\n      <td>...</td>\n      <td>431</td>\n      <td>515</td>\n      <td>453</td>\n      <td>458</td>\n      <td>452</td>\n      <td>272</td>\n      <td>251</td>\n      <td>276</td>\n      <td>252</td>\n      <td>268</td>\n    </tr>\n    <tr>\n      <td>1. FC Magdeburg</td>\n      <td>116731</td>\n      <td>515</td>\n      <td>57525000</td>\n      <td>84000</td>\n      <td>948</td>\n      <td>903</td>\n      <td>1044</td>\n      <td>1157</td>\n      <td>769</td>\n      <td>1024</td>\n      <td>...</td>\n      <td>938</td>\n      <td>1057</td>\n      <td>933</td>\n      <td>930</td>\n      <td>892</td>\n      <td>367</td>\n      <td>373</td>\n      <td>354</td>\n      <td>361</td>\n      <td>394</td>\n    </tr>\n    <tr>\n      <td>...</td>\n      <td>...</td>\n      <td>...</td>\n      <td>...</td>\n      <td>...</td>\n      <td>...</td>\n      <td>...</td>\n      <td>...</td>\n      <td>...</td>\n      <td>...</td>\n      <td>...</td>\n      <td>...</td>\n      <td>...</td>\n      <td>...</td>\n      <td>...</td>\n      <td>...</td>\n      <td>...</td>\n      <td>...</td>\n      <td>...</td>\n      <td>...</td>\n      <td>...</td>\n      <td>...</td>\n    </tr>\n    <tr>\n      <td>Zagłębie Sosnowiec</td>\n      <td>220803</td>\n      <td>656</td>\n      <td>6815000</td>\n      <td>27000</td>\n      <td>1161</td>\n      <td>1007</td>\n      <td>1152</td>\n      <td>1357</td>\n      <td>979</td>\n      <td>1252</td>\n      <td>...</td>\n      <td>1113</td>\n      <td>1371</td>\n      <td>1219</td>\n      <td>1187</td>\n      <td>1156</td>\n      <td>427</td>\n      <td>391</td>\n      <td>417</td>\n      <td>391</td>\n      <td>413</td>\n    </tr>\n    <tr>\n      <td>Çaykur Rizespor</td>\n      <td>119137</td>\n      <td>557</td>\n      <td>27515000</td>\n      <td>118000</td>\n      <td>1110</td>\n      <td>921</td>\n      <td>1137</td>\n      <td>1290</td>\n      <td>888</td>\n      <td>1233</td>\n      <td>...</td>\n      <td>1063</td>\n      <td>1200</td>\n      <td>1050</td>\n      <td>1155</td>\n      <td>1143</td>\n      <td>375</td>\n      <td>394</td>\n      <td>387</td>\n      <td>388</td>\n      <td>389</td>\n    </tr>\n    <tr>\n      <td>Örebro SK</td>\n      <td>224465</td>\n      <td>622</td>\n      <td>8465000</td>\n      <td>36000</td>\n      <td>1114</td>\n      <td>974</td>\n      <td>1149</td>\n      <td>1311</td>\n      <td>965</td>\n      <td>1270</td>\n      <td>...</td>\n      <td>1066</td>\n      <td>1393</td>\n      <td>1112</td>\n      <td>1045</td>\n      <td>1008</td>\n      <td>412</td>\n      <td>406</td>\n      <td>386</td>\n      <td>428</td>\n      <td>407</td>\n    </tr>\n    <tr>\n      <td>Östersunds FK</td>\n      <td>136103</td>\n      <td>478</td>\n      <td>11030000</td>\n      <td>39000</td>\n      <td>944</td>\n      <td>805</td>\n      <td>856</td>\n      <td>1109</td>\n      <td>801</td>\n      <td>1066</td>\n      <td>...</td>\n      <td>847</td>\n      <td>1132</td>\n      <td>920</td>\n      <td>842</td>\n      <td>816</td>\n      <td>342</td>\n      <td>357</td>\n      <td>369</td>\n      <td>337</td>\n      <td>363</td>\n    </tr>\n    <tr>\n      <td>Śląsk Wrocław</td>\n      <td>172358</td>\n      <td>628</td>\n      <td>9170000</td>\n      <td>50000</td>\n      <td>1058</td>\n      <td>1054</td>\n      <td>1289</td>\n      <td>1313</td>\n      <td>988</td>\n      <td>1238</td>\n      <td>...</td>\n      <td>1150</td>\n      <td>1314</td>\n      <td>1047</td>\n      <td>1161</td>\n      <td>1129</td>\n      <td>408</td>\n      <td>403</td>\n      <td>367</td>\n      <td>394</td>\n      <td>403</td>\n    </tr>\n  </tbody>\n</table>\n<p>650 rows × 38 columns</p>\n</div>",
      "text/plain": "                       Unnamed: 0  Age     Value    Wage  Crossing  Finishing  \\\nClub                                                                            \n SSV Jahn Regensburg       129124  609  15195000   90000      1104        944   \n1. FC Heidenheim 1846      117834  473  18290000   76000       961        860   \n1. FC Kaiserslautern       167351  544  11195000   33000      1106        918   \n1. FC Köln                  54865  225  46810000   92000       444        357   \n1. FC Magdeburg            116731  515  57525000   84000       948        903   \n...                           ...  ...       ...     ...       ...        ...   \nZagłębie Sosnowiec         220803  656   6815000   27000      1161       1007   \nÇaykur Rizespor            119137  557  27515000  118000      1110        921   \nÖrebro SK                  224465  622   8465000   36000      1114        974   \nÖstersunds FK              136103  478  11030000   39000       944        805   \nŚląsk Wrocław              172358  628   9170000   50000      1058       1054   \n\n                       HeadingAccuracy  ShortPassing  Volleys  Dribbling  ...  \\\nClub                                                                      ...   \n SSV Jahn Regensburg              1283          1362      944       1196  ...   \n1. FC Heidenheim 1846              955          1136      846       1040  ...   \n1. FC Kaiserslautern              1133          1272      899       1131  ...   \n1. FC Köln                         434           567      320        486  ...   \n1. FC Magdeburg                   1044          1157      769       1024  ...   \n...                                ...           ...      ...        ...  ...   \nZagłębie Sosnowiec                1152          1357      979       1252  ...   \nÇaykur Rizespor                   1137          1290      888       1233  ...   \nÖrebro SK                         1149          1311      965       1270  ...   \nÖstersunds FK                      856          1109      801       1066  ...   \nŚląsk Wrocław                     1289          1313      988       1238  ...   \n\n                       Penalties  Composure  Marking  StandingTackle  \\\nClub                                                                   \n SSV Jahn Regensburg        1042       1332     1205            1146   \n1. FC Heidenheim 1846        923       1093      888             952   \n1. FC Kaiserslautern        1030       1174      938             989   \n1. FC Köln                   431        515      453             458   \n1. FC Magdeburg              938       1057      933             930   \n...                          ...        ...      ...             ...   \nZagłębie Sosnowiec          1113       1371     1219            1187   \nÇaykur Rizespor             1063       1200     1050            1155   \nÖrebro SK                   1066       1393     1112            1045   \nÖstersunds FK                847       1132      920             842   \nŚląsk Wrocław               1150       1314     1047            1161   \n\n                       SlidingTackle  GKDiving  GKHandling  GKKicking  \\\nClub                                                                    \n SSV Jahn Regensburg            1088       405         406        368   \n1. FC Heidenheim 1846            890       335         317        287   \n1. FC Kaiserslautern             996       392         373        348   \n1. FC Köln                       452       272         251        276   \n1. FC Magdeburg                  892       367         373        354   \n...                              ...       ...         ...        ...   \nZagłębie Sosnowiec              1156       427         391        417   \nÇaykur Rizespor                 1143       375         394        387   \nÖrebro SK                       1008       412         406        386   \nÖstersunds FK                    816       342         357        369   \nŚląsk Wrocław                   1129       408         403        367   \n\n                       GKPositioning  GKReflexes  \nClub                                              \n SSV Jahn Regensburg             409         424  \n1. FC Heidenheim 1846            335         306  \n1. FC Kaiserslautern             368         356  \n1. FC Köln                       252         268  \n1. FC Magdeburg                  361         394  \n...                              ...         ...  \nZagłębie Sosnowiec               391         413  \nÇaykur Rizespor                  388         389  \nÖrebro SK                        428         407  \nÖstersunds FK                    337         363  \nŚląsk Wrocław                    394         403  \n\n[650 rows x 38 columns]"
     },
     "metadata": {},
     "output_type": "display_data"
    }
   ],
   "source": [
    "grouped_df = df.groupby(['Club']).sum()\n",
    "display(grouped_df)"
   ]
  },
  {
   "cell_type": "code",
   "execution_count": 30,
   "metadata": {},
   "outputs": [
    {
     "data": {
      "text/plain": "Unnamed: 0             26041\nAge                      275\nValue              152250000\nWage                  158000\nCrossing                 844\nFinishing                723\nHeadingAccuracy          848\nShortPassing             940\nVolleys                  696\nDribbling                932\nCurve                    779\nFKAccuracy               680\nLongPassing              878\nBallControl              951\nAcceleration             944\nSprintSpeed              969\nAgility                  969\nReactions                924\nBalance                  918\nShotPower                876\nJumping                  915\nStamina                  974\nStrength                 896\nLongShots                720\nAggression               847\nInterceptions            801\nPositioning              813\nVision                   881\nPenalties                710\nComposure                929\nMarking                  750\nStandingTackle           814\nSlidingTackle            756\nGKDiving                 150\nGKHandling               130\nGKKicking                139\nGKPositioning            155\nGKReflexes               129\nName: Ajax, dtype: int64"
     },
     "execution_count": 30,
     "metadata": {},
     "output_type": "execute_result"
    }
   ],
   "source": [
    "grouped_df.loc['Ajax']"
   ]
  },
  {
   "cell_type": "code",
   "execution_count": 31,
   "metadata": {},
   "outputs": [
    {
     "data": {
      "text/plain": "Club\n SSV Jahn Regensburg      90000\n1. FC Heidenheim 1846     76000\n1. FC Kaiserslautern      33000\n1. FC Köln                92000\n1. FC Magdeburg           84000\n                          ...  \nZagłębie Sosnowiec        27000\nÇaykur Rizespor          118000\nÖrebro SK                 36000\nÖstersunds FK             39000\nŚląsk Wrocław             50000\nName: Wage, Length: 650, dtype: int64"
     },
     "metadata": {},
     "output_type": "display_data"
    }
   ],
   "source": [
    "grouped_df = df.groupby(['Club'])['Wage'].sum()\n",
    "display(grouped_df)"
   ]
  },
  {
   "cell_type": "code",
   "execution_count": 32,
   "metadata": {},
   "outputs": [
    {
     "name": "stdout",
     "output_type": "stream",
     "text": "Club\nReal Madrid          4138000\nFC Barcelona         3967000\nManchester City      3097000\nManchester United    2357000\nJuventus             2335000\nName: Wage, dtype: int64\n"
    }
   ],
   "source": [
    "grouped_df = df.groupby(['Club'])['Wage'].sum().sort_values(ascending=False)\n",
    "print(grouped_df.head(5))"
   ]
  },
  {
   "cell_type": "markdown",
   "metadata": {},
   "source": [
    "Отметьте позиции (Position), по которым общая сумма зарплат (Wage) игроков превышает 5 млн евро в год."
   ]
  },
  {
   "cell_type": "code",
   "execution_count": 33,
   "metadata": {},
   "outputs": [
    {
     "data": {
      "text/plain": "Position\nCAM     5500000\nCB      7476000\nCM      6194000\nGK      8784000\nLB      6096000\nLM      5440000\nRB      5034000\nRM      5098000\nST     11873000\nName: Wage, dtype: int64"
     },
     "execution_count": 33,
     "metadata": {},
     "output_type": "execute_result"
    }
   ],
   "source": [
    "gs = df.groupby(['Position']).Wage.sum()\n",
    "gs[gs > 5000000]"
   ]
  },
  {
   "cell_type": "markdown",
   "metadata": {},
   "source": [
    "# 2.8"
   ]
  },
  {
   "cell_type": "code",
   "execution_count": 34,
   "metadata": {},
   "outputs": [
    {
     "data": {
      "text/html": "<div>\n<style scoped>\n    .dataframe tbody tr th:only-of-type {\n        vertical-align: middle;\n    }\n\n    .dataframe tbody tr th {\n        vertical-align: top;\n    }\n\n    .dataframe thead th {\n        text-align: right;\n    }\n</style>\n<table border=\"1\" class=\"dataframe\">\n  <thead>\n    <tr style=\"text-align: right;\">\n      <th></th>\n      <th>Wage</th>\n      <th>Age</th>\n      <th>ShotPower</th>\n    </tr>\n    <tr>\n      <th>Nationality</th>\n      <th></th>\n      <th></th>\n      <th></th>\n    </tr>\n  </thead>\n  <tbody>\n    <tr>\n      <td>Afghanistan</td>\n      <td>1250.000000</td>\n      <td>22.500000</td>\n      <td>53.750000</td>\n    </tr>\n    <tr>\n      <td>Albania</td>\n      <td>5931.034483</td>\n      <td>23.689655</td>\n      <td>54.551724</td>\n    </tr>\n    <tr>\n      <td>Algeria</td>\n      <td>15810.810811</td>\n      <td>27.027027</td>\n      <td>56.567568</td>\n    </tr>\n    <tr>\n      <td>Andorra</td>\n      <td>1000.000000</td>\n      <td>28.000000</td>\n      <td>58.000000</td>\n    </tr>\n    <tr>\n      <td>Angola</td>\n      <td>7100.000000</td>\n      <td>24.700000</td>\n      <td>63.700000</td>\n    </tr>\n    <tr>\n      <td>...</td>\n      <td>...</td>\n      <td>...</td>\n      <td>...</td>\n    </tr>\n    <tr>\n      <td>Uzbekistan</td>\n      <td>9000.000000</td>\n      <td>29.500000</td>\n      <td>71.500000</td>\n    </tr>\n    <tr>\n      <td>Venezuela</td>\n      <td>6611.111111</td>\n      <td>23.638889</td>\n      <td>57.222222</td>\n    </tr>\n    <tr>\n      <td>Wales</td>\n      <td>9529.411765</td>\n      <td>24.754902</td>\n      <td>48.558824</td>\n    </tr>\n    <tr>\n      <td>Zambia</td>\n      <td>2833.333333</td>\n      <td>21.833333</td>\n      <td>66.833333</td>\n    </tr>\n    <tr>\n      <td>Zimbabwe</td>\n      <td>5000.000000</td>\n      <td>26.555556</td>\n      <td>62.888889</td>\n    </tr>\n  </tbody>\n</table>\n<p>156 rows × 3 columns</p>\n</div>",
      "text/plain": "                     Wage        Age  ShotPower\nNationality                                    \nAfghanistan   1250.000000  22.500000  53.750000\nAlbania       5931.034483  23.689655  54.551724\nAlgeria      15810.810811  27.027027  56.567568\nAndorra       1000.000000  28.000000  58.000000\nAngola        7100.000000  24.700000  63.700000\n...                   ...        ...        ...\nUzbekistan    9000.000000  29.500000  71.500000\nVenezuela     6611.111111  23.638889  57.222222\nWales         9529.411765  24.754902  48.558824\nZambia        2833.333333  21.833333  66.833333\nZimbabwe      5000.000000  26.555556  62.888889\n\n[156 rows x 3 columns]"
     },
     "execution_count": 34,
     "metadata": {},
     "output_type": "execute_result"
    }
   ],
   "source": [
    "df.groupby(['Nationality'])[['Wage','Age','ShotPower']].mean()"
   ]
  },
  {
   "cell_type": "code",
   "execution_count": 35,
   "metadata": {},
   "outputs": [
    {
     "data": {
      "text/html": "<div>\n<style scoped>\n    .dataframe tbody tr th:only-of-type {\n        vertical-align: middle;\n    }\n\n    .dataframe tbody tr th {\n        vertical-align: top;\n    }\n\n    .dataframe thead th {\n        text-align: right;\n    }\n</style>\n<table border=\"1\" class=\"dataframe\">\n  <thead>\n    <tr style=\"text-align: right;\">\n      <th></th>\n      <th>Wage</th>\n      <th>Age</th>\n      <th>ShotPower</th>\n    </tr>\n    <tr>\n      <th>Nationality</th>\n      <th></th>\n      <th></th>\n      <th></th>\n    </tr>\n  </thead>\n  <tbody>\n    <tr>\n      <td>Dominican Republic</td>\n      <td>71000.000000</td>\n      <td>23.000000</td>\n      <td>75.500000</td>\n    </tr>\n    <tr>\n      <td>Egypt</td>\n      <td>35545.454545</td>\n      <td>25.818182</td>\n      <td>59.363636</td>\n    </tr>\n    <tr>\n      <td>Gabon</td>\n      <td>28900.000000</td>\n      <td>26.400000</td>\n      <td>56.900000</td>\n    </tr>\n    <tr>\n      <td>Croatia</td>\n      <td>26722.222222</td>\n      <td>24.819444</td>\n      <td>54.305556</td>\n    </tr>\n    <tr>\n      <td>Equatorial Guinea</td>\n      <td>25666.666667</td>\n      <td>28.000000</td>\n      <td>55.333333</td>\n    </tr>\n    <tr>\n      <td>Belgium</td>\n      <td>20024.390244</td>\n      <td>24.030488</td>\n      <td>56.390244</td>\n    </tr>\n    <tr>\n      <td>Ecuador</td>\n      <td>18333.333333</td>\n      <td>24.619048</td>\n      <td>60.666667</td>\n    </tr>\n    <tr>\n      <td>Uruguay</td>\n      <td>17590.361446</td>\n      <td>26.771084</td>\n      <td>56.192771</td>\n    </tr>\n    <tr>\n      <td>Brazil</td>\n      <td>17371.158392</td>\n      <td>27.898345</td>\n      <td>58.203310</td>\n    </tr>\n    <tr>\n      <td>Algeria</td>\n      <td>15810.810811</td>\n      <td>27.027027</td>\n      <td>56.567568</td>\n    </tr>\n  </tbody>\n</table>\n</div>",
      "text/plain": "                            Wage        Age  ShotPower\nNationality                                           \nDominican Republic  71000.000000  23.000000  75.500000\nEgypt               35545.454545  25.818182  59.363636\nGabon               28900.000000  26.400000  56.900000\nCroatia             26722.222222  24.819444  54.305556\nEquatorial Guinea   25666.666667  28.000000  55.333333\nBelgium             20024.390244  24.030488  56.390244\nEcuador             18333.333333  24.619048  60.666667\nUruguay             17590.361446  26.771084  56.192771\nBrazil              17371.158392  27.898345  58.203310\nAlgeria             15810.810811  27.027027  56.567568"
     },
     "execution_count": 35,
     "metadata": {},
     "output_type": "execute_result"
    }
   ],
   "source": [
    "df.groupby(['Nationality'])[['Wage','Age','ShotPower']].mean().sort_values(['Wage'],ascending=False).head(10)"
   ]
  },
  {
   "cell_type": "markdown",
   "metadata": {},
   "source": [
    "1. Посчитайте среднюю зарплату (Wage) и цену (Value) игроков разных позиций (Position). Представители какой позиции имеют самую высокую среднюю цену?"
   ]
  },
  {
   "cell_type": "code",
   "execution_count": 36,
   "metadata": {},
   "outputs": [
    {
     "data": {
      "text/html": "<div>\n<style scoped>\n    .dataframe tbody tr th:only-of-type {\n        vertical-align: middle;\n    }\n\n    .dataframe tbody tr th {\n        vertical-align: top;\n    }\n\n    .dataframe thead th {\n        text-align: right;\n    }\n</style>\n<table border=\"1\" class=\"dataframe\">\n  <thead>\n    <tr style=\"text-align: right;\">\n      <th></th>\n      <th>Wage</th>\n      <th>Value</th>\n    </tr>\n    <tr>\n      <th>Position</th>\n      <th></th>\n      <th></th>\n    </tr>\n  </thead>\n  <tbody>\n    <tr>\n      <td>RF</td>\n      <td>119000.000000</td>\n      <td>2.636583e+07</td>\n    </tr>\n    <tr>\n      <td>LF</td>\n      <td>75125.000000</td>\n      <td>2.736250e+07</td>\n    </tr>\n    <tr>\n      <td>LAM</td>\n      <td>61000.000000</td>\n      <td>1.324583e+07</td>\n    </tr>\n    <tr>\n      <td>LS</td>\n      <td>15421.487603</td>\n      <td>5.848430e+06</td>\n    </tr>\n    <tr>\n      <td>RW</td>\n      <td>13822.784810</td>\n      <td>3.495738e+06</td>\n    </tr>\n    <tr>\n      <td>RCM</td>\n      <td>13504.166667</td>\n      <td>4.217604e+06</td>\n    </tr>\n    <tr>\n      <td>LCM</td>\n      <td>13497.854077</td>\n      <td>4.318090e+06</td>\n    </tr>\n    <tr>\n      <td>RS</td>\n      <td>13482.456140</td>\n      <td>3.645833e+06</td>\n    </tr>\n    <tr>\n      <td>LW</td>\n      <td>12169.421488</td>\n      <td>3.603099e+06</td>\n    </tr>\n    <tr>\n      <td>RAM</td>\n      <td>11800.000000</td>\n      <td>8.345000e+06</td>\n    </tr>\n    <tr>\n      <td>RDM</td>\n      <td>11282.608696</td>\n      <td>2.692717e+06</td>\n    </tr>\n    <tr>\n      <td>RCB</td>\n      <td>11270.334928</td>\n      <td>3.009055e+06</td>\n    </tr>\n    <tr>\n      <td>LDM</td>\n      <td>10243.243243</td>\n      <td>3.369459e+06</td>\n    </tr>\n    <tr>\n      <td>LCB</td>\n      <td>9753.056235</td>\n      <td>2.636516e+06</td>\n    </tr>\n    <tr>\n      <td>CAM</td>\n      <td>8688.783570</td>\n      <td>2.963199e+06</td>\n    </tr>\n    <tr>\n      <td>ST</td>\n      <td>7852.513228</td>\n      <td>2.157252e+06</td>\n    </tr>\n    <tr>\n      <td>LM</td>\n      <td>7472.527473</td>\n      <td>2.466174e+06</td>\n    </tr>\n    <tr>\n      <td>CDM</td>\n      <td>7121.562952</td>\n      <td>1.658900e+06</td>\n    </tr>\n    <tr>\n      <td>RM</td>\n      <td>6655.352480</td>\n      <td>2.138734e+06</td>\n    </tr>\n    <tr>\n      <td>LB</td>\n      <td>6083.832335</td>\n      <td>1.429032e+06</td>\n    </tr>\n    <tr>\n      <td>RWB</td>\n      <td>6000.000000</td>\n      <td>1.555571e+06</td>\n    </tr>\n    <tr>\n      <td>CM</td>\n      <td>5805.060918</td>\n      <td>1.617465e+06</td>\n    </tr>\n    <tr>\n      <td>LWB</td>\n      <td>5783.333333</td>\n      <td>1.931333e+06</td>\n    </tr>\n    <tr>\n      <td>GK</td>\n      <td>5352.833638</td>\n      <td>1.502502e+06</td>\n    </tr>\n    <tr>\n      <td>CB</td>\n      <td>5328.581611</td>\n      <td>1.321251e+06</td>\n    </tr>\n    <tr>\n      <td>RB</td>\n      <td>5310.126582</td>\n      <td>1.248940e+06</td>\n    </tr>\n    <tr>\n      <td>CF</td>\n      <td>4862.745098</td>\n      <td>1.848627e+06</td>\n    </tr>\n  </tbody>\n</table>\n</div>",
      "text/plain": "                   Wage         Value\nPosition                             \nRF        119000.000000  2.636583e+07\nLF         75125.000000  2.736250e+07\nLAM        61000.000000  1.324583e+07\nLS         15421.487603  5.848430e+06\nRW         13822.784810  3.495738e+06\nRCM        13504.166667  4.217604e+06\nLCM        13497.854077  4.318090e+06\nRS         13482.456140  3.645833e+06\nLW         12169.421488  3.603099e+06\nRAM        11800.000000  8.345000e+06\nRDM        11282.608696  2.692717e+06\nRCB        11270.334928  3.009055e+06\nLDM        10243.243243  3.369459e+06\nLCB         9753.056235  2.636516e+06\nCAM         8688.783570  2.963199e+06\nST          7852.513228  2.157252e+06\nLM          7472.527473  2.466174e+06\nCDM         7121.562952  1.658900e+06\nRM          6655.352480  2.138734e+06\nLB          6083.832335  1.429032e+06\nRWB         6000.000000  1.555571e+06\nCM          5805.060918  1.617465e+06\nLWB         5783.333333  1.931333e+06\nGK          5352.833638  1.502502e+06\nCB          5328.581611  1.321251e+06\nRB          5310.126582  1.248940e+06\nCF          4862.745098  1.848627e+06"
     },
     "execution_count": 36,
     "metadata": {},
     "output_type": "execute_result"
    }
   ],
   "source": [
    "df.groupby(['Position'])[['Wage','Value']].mean().sort_values(['Wage'],ascending=False)"
   ]
  },
  {
   "cell_type": "markdown",
   "metadata": {},
   "source": [
    "2. Какова средняя зарплата футболистов на данной позиции?"
   ]
  },
  {
   "cell_type": "code",
   "execution_count": 37,
   "metadata": {},
   "outputs": [
    {
     "data": {
      "text/html": "<div>\n<style scoped>\n    .dataframe tbody tr th:only-of-type {\n        vertical-align: middle;\n    }\n\n    .dataframe tbody tr th {\n        vertical-align: top;\n    }\n\n    .dataframe thead th {\n        text-align: right;\n    }\n</style>\n<table border=\"1\" class=\"dataframe\">\n  <thead>\n    <tr style=\"text-align: right;\">\n      <th></th>\n      <th>Wage</th>\n      <th>Value</th>\n    </tr>\n    <tr>\n      <th>Position</th>\n      <th></th>\n      <th></th>\n    </tr>\n  </thead>\n  <tbody>\n    <tr>\n      <td>LF</td>\n      <td>75125.000000</td>\n      <td>2.736250e+07</td>\n    </tr>\n    <tr>\n      <td>RF</td>\n      <td>119000.000000</td>\n      <td>2.636583e+07</td>\n    </tr>\n    <tr>\n      <td>LAM</td>\n      <td>61000.000000</td>\n      <td>1.324583e+07</td>\n    </tr>\n    <tr>\n      <td>RAM</td>\n      <td>11800.000000</td>\n      <td>8.345000e+06</td>\n    </tr>\n    <tr>\n      <td>LS</td>\n      <td>15421.487603</td>\n      <td>5.848430e+06</td>\n    </tr>\n    <tr>\n      <td>LCM</td>\n      <td>13497.854077</td>\n      <td>4.318090e+06</td>\n    </tr>\n    <tr>\n      <td>RCM</td>\n      <td>13504.166667</td>\n      <td>4.217604e+06</td>\n    </tr>\n    <tr>\n      <td>RS</td>\n      <td>13482.456140</td>\n      <td>3.645833e+06</td>\n    </tr>\n    <tr>\n      <td>LW</td>\n      <td>12169.421488</td>\n      <td>3.603099e+06</td>\n    </tr>\n    <tr>\n      <td>RW</td>\n      <td>13822.784810</td>\n      <td>3.495738e+06</td>\n    </tr>\n    <tr>\n      <td>LDM</td>\n      <td>10243.243243</td>\n      <td>3.369459e+06</td>\n    </tr>\n    <tr>\n      <td>RCB</td>\n      <td>11270.334928</td>\n      <td>3.009055e+06</td>\n    </tr>\n    <tr>\n      <td>CAM</td>\n      <td>8688.783570</td>\n      <td>2.963199e+06</td>\n    </tr>\n    <tr>\n      <td>RDM</td>\n      <td>11282.608696</td>\n      <td>2.692717e+06</td>\n    </tr>\n    <tr>\n      <td>LCB</td>\n      <td>9753.056235</td>\n      <td>2.636516e+06</td>\n    </tr>\n    <tr>\n      <td>LM</td>\n      <td>7472.527473</td>\n      <td>2.466174e+06</td>\n    </tr>\n    <tr>\n      <td>ST</td>\n      <td>7852.513228</td>\n      <td>2.157252e+06</td>\n    </tr>\n    <tr>\n      <td>RM</td>\n      <td>6655.352480</td>\n      <td>2.138734e+06</td>\n    </tr>\n    <tr>\n      <td>LWB</td>\n      <td>5783.333333</td>\n      <td>1.931333e+06</td>\n    </tr>\n    <tr>\n      <td>CF</td>\n      <td>4862.745098</td>\n      <td>1.848627e+06</td>\n    </tr>\n    <tr>\n      <td>CDM</td>\n      <td>7121.562952</td>\n      <td>1.658900e+06</td>\n    </tr>\n    <tr>\n      <td>CM</td>\n      <td>5805.060918</td>\n      <td>1.617465e+06</td>\n    </tr>\n    <tr>\n      <td>RWB</td>\n      <td>6000.000000</td>\n      <td>1.555571e+06</td>\n    </tr>\n    <tr>\n      <td>GK</td>\n      <td>5352.833638</td>\n      <td>1.502502e+06</td>\n    </tr>\n    <tr>\n      <td>LB</td>\n      <td>6083.832335</td>\n      <td>1.429032e+06</td>\n    </tr>\n    <tr>\n      <td>CB</td>\n      <td>5328.581611</td>\n      <td>1.321251e+06</td>\n    </tr>\n    <tr>\n      <td>RB</td>\n      <td>5310.126582</td>\n      <td>1.248940e+06</td>\n    </tr>\n  </tbody>\n</table>\n</div>",
      "text/plain": "                   Wage         Value\nPosition                             \nLF         75125.000000  2.736250e+07\nRF        119000.000000  2.636583e+07\nLAM        61000.000000  1.324583e+07\nRAM        11800.000000  8.345000e+06\nLS         15421.487603  5.848430e+06\nLCM        13497.854077  4.318090e+06\nRCM        13504.166667  4.217604e+06\nRS         13482.456140  3.645833e+06\nLW         12169.421488  3.603099e+06\nRW         13822.784810  3.495738e+06\nLDM        10243.243243  3.369459e+06\nRCB        11270.334928  3.009055e+06\nCAM         8688.783570  2.963199e+06\nRDM        11282.608696  2.692717e+06\nLCB         9753.056235  2.636516e+06\nLM          7472.527473  2.466174e+06\nST          7852.513228  2.157252e+06\nRM          6655.352480  2.138734e+06\nLWB         5783.333333  1.931333e+06\nCF          4862.745098  1.848627e+06\nCDM         7121.562952  1.658900e+06\nCM          5805.060918  1.617465e+06\nRWB         6000.000000  1.555571e+06\nGK          5352.833638  1.502502e+06\nLB          6083.832335  1.429032e+06\nCB          5328.581611  1.321251e+06\nRB          5310.126582  1.248940e+06"
     },
     "execution_count": 37,
     "metadata": {},
     "output_type": "execute_result"
    }
   ],
   "source": [
    "df.groupby(['Position'])[['Wage','Value']].mean().sort_values(['Value'],ascending=False)"
   ]
  },
  {
   "cell_type": "markdown",
   "metadata": {},
   "source": [
    "# 2.9"
   ]
  },
  {
   "cell_type": "code",
   "execution_count": 38,
   "metadata": {},
   "outputs": [
    {
     "data": {
      "text/html": "<div>\n<style scoped>\n    .dataframe tbody tr th:only-of-type {\n        vertical-align: middle;\n    }\n\n    .dataframe tbody tr th {\n        vertical-align: top;\n    }\n\n    .dataframe thead th {\n        text-align: right;\n    }\n</style>\n<table border=\"1\" class=\"dataframe\">\n  <thead>\n    <tr style=\"text-align: right;\">\n      <th></th>\n      <th>Club</th>\n      <th>Name</th>\n    </tr>\n    <tr>\n      <th>Nationality</th>\n      <th></th>\n      <th></th>\n    </tr>\n  </thead>\n  <tbody>\n    <tr>\n      <td>Afghanistan</td>\n      <td>4</td>\n      <td>4</td>\n    </tr>\n    <tr>\n      <td>Albania</td>\n      <td>26</td>\n      <td>29</td>\n    </tr>\n    <tr>\n      <td>Algeria</td>\n      <td>33</td>\n      <td>37</td>\n    </tr>\n    <tr>\n      <td>Andorra</td>\n      <td>1</td>\n      <td>1</td>\n    </tr>\n    <tr>\n      <td>Angola</td>\n      <td>9</td>\n      <td>10</td>\n    </tr>\n    <tr>\n      <td>...</td>\n      <td>...</td>\n      <td>...</td>\n    </tr>\n    <tr>\n      <td>Uzbekistan</td>\n      <td>2</td>\n      <td>2</td>\n    </tr>\n    <tr>\n      <td>Venezuela</td>\n      <td>34</td>\n      <td>36</td>\n    </tr>\n    <tr>\n      <td>Wales</td>\n      <td>56</td>\n      <td>101</td>\n    </tr>\n    <tr>\n      <td>Zambia</td>\n      <td>5</td>\n      <td>6</td>\n    </tr>\n    <tr>\n      <td>Zimbabwe</td>\n      <td>8</td>\n      <td>9</td>\n    </tr>\n  </tbody>\n</table>\n<p>156 rows × 2 columns</p>\n</div>",
      "text/plain": "             Club  Name\nNationality            \nAfghanistan     4     4\nAlbania        26    29\nAlgeria        33    37\nAndorra         1     1\nAngola          9    10\n...           ...   ...\nUzbekistan      2     2\nVenezuela      34    36\nWales          56   101\nZambia          5     6\nZimbabwe        8     9\n\n[156 rows x 2 columns]"
     },
     "execution_count": 38,
     "metadata": {},
     "output_type": "execute_result"
    }
   ],
   "source": [
    "df.groupby(['Nationality'])[['Club','Name']].nunique()"
   ]
  },
  {
   "cell_type": "code",
   "execution_count": 42,
   "metadata": {},
   "outputs": [
    {
     "data": {
      "text/plain": "'0.25.1'"
     },
     "execution_count": 42,
     "metadata": {},
     "output_type": "execute_result"
    }
   ],
   "source": [
    "pd.__version__"
   ]
  },
  {
   "cell_type": "markdown",
   "metadata": {},
   "source": [
    "Посчитайте среднюю (mean) и медианную (median) зарплату (Wage) футболистов из разных клубов (Club). В скольких клубах средняя и медианная зарплаты совпадают?\n",
    "\n",
    "Подсказка: чтобы в процессе группировки применить к данным одновременно две агрегирующие функции, необходимо указать их как аргументы метода agg:\n",
    "\n",
    "`df.groupby(столбец_для_группировки)[столбцы_для_отображения].agg(['функция_1', 'функция_2'])`"
   ]
  },
  {
   "cell_type": "code",
   "execution_count": 52,
   "metadata": {},
   "outputs": [
    {
     "data": {
      "text/html": "<div>\n<style scoped>\n    .dataframe tbody tr th:only-of-type {\n        vertical-align: middle;\n    }\n\n    .dataframe tbody tr th {\n        vertical-align: top;\n    }\n\n    .dataframe thead th {\n        text-align: right;\n    }\n</style>\n<table border=\"1\" class=\"dataframe\">\n  <thead>\n    <tr style=\"text-align: right;\">\n      <th></th>\n      <th>mean</th>\n      <th>median</th>\n    </tr>\n    <tr>\n      <th>Club</th>\n      <th></th>\n      <th></th>\n    </tr>\n  </thead>\n  <tbody>\n    <tr>\n      <td>SSV Jahn Regensburg</td>\n      <td>3750.000000</td>\n      <td>3500</td>\n    </tr>\n    <tr>\n      <td>1. FC Heidenheim 1846</td>\n      <td>3800.000000</td>\n      <td>3000</td>\n    </tr>\n    <tr>\n      <td>1. FC Kaiserslautern</td>\n      <td>1434.782609</td>\n      <td>1000</td>\n    </tr>\n    <tr>\n      <td>1. FC Köln</td>\n      <td>9200.000000</td>\n      <td>4000</td>\n    </tr>\n    <tr>\n      <td>1. FC Magdeburg</td>\n      <td>4000.000000</td>\n      <td>4000</td>\n    </tr>\n    <tr>\n      <td>...</td>\n      <td>...</td>\n      <td>...</td>\n    </tr>\n    <tr>\n      <td>Zagłębie Sosnowiec</td>\n      <td>1080.000000</td>\n      <td>1000</td>\n    </tr>\n    <tr>\n      <td>Çaykur Rizespor</td>\n      <td>5363.636364</td>\n      <td>4500</td>\n    </tr>\n    <tr>\n      <td>Örebro SK</td>\n      <td>1384.615385</td>\n      <td>1000</td>\n    </tr>\n    <tr>\n      <td>Östersunds FK</td>\n      <td>1950.000000</td>\n      <td>1000</td>\n    </tr>\n    <tr>\n      <td>Śląsk Wrocław</td>\n      <td>2083.333333</td>\n      <td>2000</td>\n    </tr>\n  </tbody>\n</table>\n<p>650 rows × 2 columns</p>\n</div>",
      "text/plain": "                              mean  median\nClub                                      \n SSV Jahn Regensburg   3750.000000    3500\n1. FC Heidenheim 1846  3800.000000    3000\n1. FC Kaiserslautern   1434.782609    1000\n1. FC Köln             9200.000000    4000\n1. FC Magdeburg        4000.000000    4000\n...                            ...     ...\nZagłębie Sosnowiec     1080.000000    1000\nÇaykur Rizespor        5363.636364    4500\nÖrebro SK              1384.615385    1000\nÖstersunds FK          1950.000000    1000\nŚląsk Wrocław          2083.333333    2000\n\n[650 rows x 2 columns]"
     },
     "execution_count": 52,
     "metadata": {},
     "output_type": "execute_result"
    }
   ],
   "source": [
    "club_wages = df.groupby('Club')['Wage'].agg(['mean', 'median'])\n",
    "club_wages"
   ]
  },
  {
   "cell_type": "code",
   "execution_count": 63,
   "metadata": {},
   "outputs": [
    {
     "name": "stdout",
     "output_type": "stream",
     "text": "<class 'pandas.core.frame.DataFrame'>\nIndex: 650 entries,  SSV Jahn Regensburg to Śląsk Wrocław\nData columns (total 2 columns):\nmean      650 non-null float64\nmedian    650 non-null int64\ndtypes: float64(1), int64(1)\nmemory usage: 15.2+ KB\n"
    },
    {
     "data": {
      "text/plain": "(None,                 mean         median\n count     650.000000     650.000000\n mean     8296.997931    7425.384615\n std     17839.974855   17729.026592\n min      1000.000000    1000.000000\n 25%      1904.761905    1500.000000\n 50%      2978.260870    2000.000000\n 75%      7218.531469    5000.000000\n max    188090.909091  207500.000000)"
     },
     "execution_count": 63,
     "metadata": {},
     "output_type": "execute_result"
    }
   ],
   "source": [
    "club_wages.info(), club_wages.describe()"
   ]
  },
  {
   "cell_type": "code",
   "execution_count": 70,
   "metadata": {},
   "outputs": [
    {
     "data": {
      "text/html": "<div>\n<style scoped>\n    .dataframe tbody tr th:only-of-type {\n        vertical-align: middle;\n    }\n\n    .dataframe tbody tr th {\n        vertical-align: top;\n    }\n\n    .dataframe thead th {\n        text-align: right;\n    }\n</style>\n<table border=\"1\" class=\"dataframe\">\n  <thead>\n    <tr style=\"text-align: right;\">\n      <th></th>\n      <th>mean</th>\n      <th>median</th>\n    </tr>\n    <tr>\n      <th>Club</th>\n      <th></th>\n      <th></th>\n    </tr>\n  </thead>\n  <tbody>\n    <tr>\n      <td>Itagüí Leones FC</td>\n      <td>1000.0</td>\n      <td>1000</td>\n    </tr>\n    <tr>\n      <td>Trelleborgs FF</td>\n      <td>1000.0</td>\n      <td>1000</td>\n    </tr>\n    <tr>\n      <td>Jaguares de Córdoba</td>\n      <td>1000.0</td>\n      <td>1000</td>\n    </tr>\n    <tr>\n      <td>Kaizer Chiefs</td>\n      <td>1000.0</td>\n      <td>1000</td>\n    </tr>\n    <tr>\n      <td>Limerick FC</td>\n      <td>1000.0</td>\n      <td>1000</td>\n    </tr>\n    <tr>\n      <td>Lokomotiv Moscow</td>\n      <td>1000.0</td>\n      <td>1000</td>\n    </tr>\n    <tr>\n      <td>Olympiacos CFP</td>\n      <td>1000.0</td>\n      <td>1000</td>\n    </tr>\n    <tr>\n      <td>Orlando Pirates</td>\n      <td>1000.0</td>\n      <td>1000</td>\n    </tr>\n    <tr>\n      <td>PAOK</td>\n      <td>1000.0</td>\n      <td>1000</td>\n    </tr>\n    <tr>\n      <td>IK Sirius</td>\n      <td>1000.0</td>\n      <td>1000</td>\n    </tr>\n    <tr>\n      <td>PFC CSKA Moscow</td>\n      <td>1000.0</td>\n      <td>1000</td>\n    </tr>\n    <tr>\n      <td>Patriotas Boyacá FC</td>\n      <td>1000.0</td>\n      <td>1000</td>\n    </tr>\n    <tr>\n      <td>SK Slavia Praha</td>\n      <td>1000.0</td>\n      <td>1000</td>\n    </tr>\n    <tr>\n      <td>Shakhtar Donetsk</td>\n      <td>1000.0</td>\n      <td>1000</td>\n    </tr>\n    <tr>\n      <td>Shamrock Rovers</td>\n      <td>1000.0</td>\n      <td>1000</td>\n    </tr>\n    <tr>\n      <td>Sligo Rovers</td>\n      <td>1000.0</td>\n      <td>1000</td>\n    </tr>\n    <tr>\n      <td>Sparta Praha</td>\n      <td>1000.0</td>\n      <td>1000</td>\n    </tr>\n    <tr>\n      <td>Spartak Moscow</td>\n      <td>1000.0</td>\n      <td>1000</td>\n    </tr>\n    <tr>\n      <td>St. Patrick's Athletic</td>\n      <td>1000.0</td>\n      <td>1000</td>\n    </tr>\n    <tr>\n      <td>Panathinaikos FC</td>\n      <td>1000.0</td>\n      <td>1000</td>\n    </tr>\n    <tr>\n      <td>IF Brommapojkarna</td>\n      <td>1000.0</td>\n      <td>1000</td>\n    </tr>\n    <tr>\n      <td>Viktoria Plzeň</td>\n      <td>1000.0</td>\n      <td>1000</td>\n    </tr>\n    <tr>\n      <td>Cork City</td>\n      <td>1000.0</td>\n      <td>1000</td>\n    </tr>\n    <tr>\n      <td>HJK Helsinki</td>\n      <td>1000.0</td>\n      <td>1000</td>\n    </tr>\n    <tr>\n      <td>Boyacá Chicó FC</td>\n      <td>1000.0</td>\n      <td>1000</td>\n    </tr>\n    <tr>\n      <td>Deportivo Pasto</td>\n      <td>1000.0</td>\n      <td>1000</td>\n    </tr>\n    <tr>\n      <td>Dinamo Zagreb</td>\n      <td>1000.0</td>\n      <td>1000</td>\n    </tr>\n    <tr>\n      <td>Bohemian FC</td>\n      <td>1000.0</td>\n      <td>1000</td>\n    </tr>\n    <tr>\n      <td>Dundalk</td>\n      <td>1000.0</td>\n      <td>1000</td>\n    </tr>\n    <tr>\n      <td>Bray Wanderers</td>\n      <td>1000.0</td>\n      <td>1000</td>\n    </tr>\n    <tr>\n      <td>Dynamo Kyiv</td>\n      <td>1000.0</td>\n      <td>1000</td>\n    </tr>\n    <tr>\n      <td>Envigado FC</td>\n      <td>1000.0</td>\n      <td>1000</td>\n    </tr>\n    <tr>\n      <td>FC Energie Cottbus</td>\n      <td>1000.0</td>\n      <td>1000</td>\n    </tr>\n    <tr>\n      <td>AEK Athens</td>\n      <td>1000.0</td>\n      <td>1000</td>\n    </tr>\n    <tr>\n      <td>FC Metz</td>\n      <td>1500.0</td>\n      <td>1500</td>\n    </tr>\n    <tr>\n      <td>AJ Auxerre</td>\n      <td>2000.0</td>\n      <td>2000</td>\n    </tr>\n    <tr>\n      <td>Stade Brestois 29</td>\n      <td>2000.0</td>\n      <td>2000</td>\n    </tr>\n    <tr>\n      <td>Benevento</td>\n      <td>2000.0</td>\n      <td>2000</td>\n    </tr>\n    <tr>\n      <td>Pohang Steelers</td>\n      <td>2000.0</td>\n      <td>2000</td>\n    </tr>\n    <tr>\n      <td>Heracles Almelo</td>\n      <td>2000.0</td>\n      <td>2000</td>\n    </tr>\n    <tr>\n      <td>CD Tondela</td>\n      <td>2000.0</td>\n      <td>2000</td>\n    </tr>\n    <tr>\n      <td>Kashiwa Reysol</td>\n      <td>2000.0</td>\n      <td>2000</td>\n    </tr>\n    <tr>\n      <td>Jeonnam Dragons</td>\n      <td>2000.0</td>\n      <td>2000</td>\n    </tr>\n    <tr>\n      <td>Grimsby Town</td>\n      <td>2000.0</td>\n      <td>2000</td>\n    </tr>\n    <tr>\n      <td>Philadelphia Union</td>\n      <td>2000.0</td>\n      <td>2000</td>\n    </tr>\n    <tr>\n      <td>Northampton Town</td>\n      <td>2500.0</td>\n      <td>2500</td>\n    </tr>\n    <tr>\n      <td>CD Feirense</td>\n      <td>4000.0</td>\n      <td>4000</td>\n    </tr>\n    <tr>\n      <td>Sunderland</td>\n      <td>4000.0</td>\n      <td>4000</td>\n    </tr>\n    <tr>\n      <td>1. FC Magdeburg</td>\n      <td>4000.0</td>\n      <td>4000</td>\n    </tr>\n    <tr>\n      <td>Brøndby IF</td>\n      <td>6000.0</td>\n      <td>6000</td>\n    </tr>\n    <tr>\n      <td>Göztepe SK</td>\n      <td>7000.0</td>\n      <td>7000</td>\n    </tr>\n    <tr>\n      <td>Cruzeiro</td>\n      <td>13000.0</td>\n      <td>13000</td>\n    </tr>\n  </tbody>\n</table>\n</div>",
      "text/plain": "                           mean  median\nClub                                   \nItagüí Leones FC         1000.0    1000\nTrelleborgs FF           1000.0    1000\nJaguares de Córdoba      1000.0    1000\nKaizer Chiefs            1000.0    1000\nLimerick FC              1000.0    1000\nLokomotiv Moscow         1000.0    1000\nOlympiacos CFP           1000.0    1000\nOrlando Pirates          1000.0    1000\nPAOK                     1000.0    1000\nIK Sirius                1000.0    1000\nPFC CSKA Moscow          1000.0    1000\nPatriotas Boyacá FC      1000.0    1000\nSK Slavia Praha          1000.0    1000\nShakhtar Donetsk         1000.0    1000\nShamrock Rovers          1000.0    1000\nSligo Rovers             1000.0    1000\nSparta Praha             1000.0    1000\nSpartak Moscow           1000.0    1000\nSt. Patrick's Athletic   1000.0    1000\nPanathinaikos FC         1000.0    1000\nIF Brommapojkarna        1000.0    1000\nViktoria Plzeň           1000.0    1000\nCork City                1000.0    1000\nHJK Helsinki             1000.0    1000\nBoyacá Chicó FC          1000.0    1000\nDeportivo Pasto          1000.0    1000\nDinamo Zagreb            1000.0    1000\nBohemian FC              1000.0    1000\nDundalk                  1000.0    1000\nBray Wanderers           1000.0    1000\nDynamo Kyiv              1000.0    1000\nEnvigado FC              1000.0    1000\nFC Energie Cottbus       1000.0    1000\nAEK Athens               1000.0    1000\nFC Metz                  1500.0    1500\nAJ Auxerre               2000.0    2000\nStade Brestois 29        2000.0    2000\nBenevento                2000.0    2000\nPohang Steelers          2000.0    2000\nHeracles Almelo          2000.0    2000\nCD Tondela               2000.0    2000\nKashiwa Reysol           2000.0    2000\nJeonnam Dragons          2000.0    2000\nGrimsby Town             2000.0    2000\nPhiladelphia Union       2000.0    2000\nNorthampton Town         2500.0    2500\nCD Feirense              4000.0    4000\nSunderland               4000.0    4000\n1. FC Magdeburg          4000.0    4000\nBrøndby IF               6000.0    6000\nGöztepe SK               7000.0    7000\nCruzeiro                13000.0   13000"
     },
     "execution_count": 70,
     "metadata": {},
     "output_type": "execute_result"
    }
   ],
   "source": [
    "club_wages[club_wages['median'] == club_wages['mean']].sort_values(['median'])"
   ]
  },
  {
   "cell_type": "markdown",
   "metadata": {},
   "source": [
    "# 2.10"
   ]
  },
  {
   "cell_type": "markdown",
   "metadata": {},
   "source": [
    "1. С помощью функции groupby посчитайте сумму зарплат (Wage) футболистов клуба (Club) \"Chelsea\"."
   ]
  },
  {
   "cell_type": "code",
   "execution_count": 74,
   "metadata": {},
   "outputs": [
    {
     "data": {
      "text/plain": "2035000"
     },
     "execution_count": 74,
     "metadata": {},
     "output_type": "execute_result"
    }
   ],
   "source": [
    "df.groupby(['Club']).Wage.sum().Chelsea"
   ]
  },
  {
   "cell_type": "markdown",
   "metadata": {},
   "source": [
    "2. Определите максимальную зарплату футболиста национальности (Nationality) Аргентина (\"Argentina\") в возрасте 20 лет."
   ]
  },
  {
   "cell_type": "code",
   "execution_count": 83,
   "metadata": {},
   "outputs": [
    {
     "data": {
      "text/plain": "54000"
     },
     "execution_count": 83,
     "metadata": {},
     "output_type": "execute_result"
    }
   ],
   "source": [
    "df[df.Age == 20].groupby(['Nationality']).Wage.max().Argentina"
   ]
  },
  {
   "cell_type": "markdown",
   "metadata": {},
   "source": [
    "3. Определите максимальную зарплату футболиста национальности (Nationality) Аргентина (\"Argentina\") в возрасте 30 лет."
   ]
  },
  {
   "cell_type": "code",
   "execution_count": 84,
   "metadata": {},
   "outputs": [
    {
     "data": {
      "text/plain": "300000"
     },
     "execution_count": 84,
     "metadata": {},
     "output_type": "execute_result"
    }
   ],
   "source": [
    "df[df.Age == 30].groupby(['Nationality']).Wage.max().Argentina"
   ]
  },
  {
   "cell_type": "markdown",
   "metadata": {},
   "source": [
    "4. Определите минимальную зарплату футболиста национальности (Nationality) Аргентина (\"Argentina\") в возрасте 30 лет."
   ]
  },
  {
   "cell_type": "code",
   "execution_count": 85,
   "metadata": {},
   "outputs": [
    {
     "data": {
      "text/plain": "1000"
     },
     "execution_count": 85,
     "metadata": {},
     "output_type": "execute_result"
    }
   ],
   "source": [
    "df[df.Age == 30].groupby(['Nationality']).Wage.min().Argentina"
   ]
  },
  {
   "cell_type": "markdown",
   "metadata": {},
   "source": [
    "5. Определите максимальную силу (Strength) и баланс (Balance) среди игроков клуба (Club) \"FC Barcelona\" из Аргентины (\"Argentina\"). Ответ введите через точку с запятой без пробела."
   ]
  },
  {
   "cell_type": "code",
   "execution_count": 92,
   "metadata": {},
   "outputs": [
    {
     "data": {
      "text/plain": "Strength    59\nBalance     95\ndtype: int64"
     },
     "execution_count": 92,
     "metadata": {},
     "output_type": "execute_result"
    }
   ],
   "source": [
    "df[(df.Club == 'FC Barcelona') & (df.Nationality == 'Argentina')][['Strength', 'Balance']].max()"
   ]
  },
  {
   "cell_type": "markdown",
   "metadata": {},
   "source": [
    "# 2.12"
   ]
  },
  {
   "cell_type": "code",
   "execution_count": 96,
   "metadata": {},
   "outputs": [
    {
     "data": {
      "text/html": "<div>\n<style scoped>\n    .dataframe tbody tr th:only-of-type {\n        vertical-align: middle;\n    }\n\n    .dataframe tbody tr th {\n        vertical-align: top;\n    }\n\n    .dataframe thead tr th {\n        text-align: left;\n    }\n\n    .dataframe thead tr:last-of-type th {\n        text-align: right;\n    }\n</style>\n<table border=\"1\" class=\"dataframe\">\n  <thead>\n    <tr>\n      <th></th>\n      <th colspan=\"4\" halign=\"left\">Wage</th>\n    </tr>\n    <tr>\n      <th>Club</th>\n      <th>FC Barcelona</th>\n      <th>Juventus</th>\n      <th>Manchester United</th>\n      <th>Real Madrid</th>\n    </tr>\n    <tr>\n      <th>Nationality</th>\n      <th></th>\n      <th></th>\n      <th></th>\n      <th></th>\n    </tr>\n  </thead>\n  <tbody>\n    <tr>\n      <td>Argentina</td>\n      <td>565000.0</td>\n      <td>205000.0</td>\n      <td>206000.0</td>\n      <td>NaN</td>\n    </tr>\n    <tr>\n      <td>Belgium</td>\n      <td>110000.0</td>\n      <td>NaN</td>\n      <td>230000.0</td>\n      <td>240000.0</td>\n    </tr>\n    <tr>\n      <td>Bosnia Herzegovina</td>\n      <td>NaN</td>\n      <td>180000.0</td>\n      <td>NaN</td>\n      <td>NaN</td>\n    </tr>\n    <tr>\n      <td>Brazil</td>\n      <td>465000.0</td>\n      <td>335000.0</td>\n      <td>91000.0</td>\n      <td>570000.0</td>\n    </tr>\n    <tr>\n      <td>Chile</td>\n      <td>205000.0</td>\n      <td>NaN</td>\n      <td>215000.0</td>\n      <td>NaN</td>\n    </tr>\n    <tr>\n      <td>Costa Rica</td>\n      <td>NaN</td>\n      <td>NaN</td>\n      <td>NaN</td>\n      <td>195000.0</td>\n    </tr>\n    <tr>\n      <td>Croatia</td>\n      <td>260000.0</td>\n      <td>160000.0</td>\n      <td>NaN</td>\n      <td>420000.0</td>\n    </tr>\n    <tr>\n      <td>Dominican Republic</td>\n      <td>NaN</td>\n      <td>NaN</td>\n      <td>NaN</td>\n      <td>140000.0</td>\n    </tr>\n    <tr>\n      <td>Ecuador</td>\n      <td>NaN</td>\n      <td>NaN</td>\n      <td>120000.0</td>\n      <td>NaN</td>\n    </tr>\n    <tr>\n      <td>England</td>\n      <td>NaN</td>\n      <td>NaN</td>\n      <td>478000.0</td>\n      <td>NaN</td>\n    </tr>\n    <tr>\n      <td>France</td>\n      <td>495000.0</td>\n      <td>145000.0</td>\n      <td>375000.0</td>\n      <td>459000.0</td>\n    </tr>\n    <tr>\n      <td>Germany</td>\n      <td>240000.0</td>\n      <td>160000.0</td>\n      <td>NaN</td>\n      <td>355000.0</td>\n    </tr>\n    <tr>\n      <td>Italy</td>\n      <td>NaN</td>\n      <td>460000.0</td>\n      <td>88000.0</td>\n      <td>NaN</td>\n    </tr>\n    <tr>\n      <td>Ivory Coast</td>\n      <td>NaN</td>\n      <td>NaN</td>\n      <td>105000.0</td>\n      <td>NaN</td>\n    </tr>\n    <tr>\n      <td>Morocco</td>\n      <td>NaN</td>\n      <td>160000.0</td>\n      <td>NaN</td>\n      <td>NaN</td>\n    </tr>\n    <tr>\n      <td>Netherlands</td>\n      <td>135000.0</td>\n      <td>NaN</td>\n      <td>NaN</td>\n      <td>NaN</td>\n    </tr>\n    <tr>\n      <td>Poland</td>\n      <td>NaN</td>\n      <td>125000.0</td>\n      <td>NaN</td>\n      <td>NaN</td>\n    </tr>\n    <tr>\n      <td>Portugal</td>\n      <td>125000.0</td>\n      <td>405000.0</td>\n      <td>NaN</td>\n      <td>NaN</td>\n    </tr>\n    <tr>\n      <td>Scotland</td>\n      <td>NaN</td>\n      <td>NaN</td>\n      <td>11000.0</td>\n      <td>NaN</td>\n    </tr>\n    <tr>\n      <td>Serbia</td>\n      <td>NaN</td>\n      <td>NaN</td>\n      <td>165000.0</td>\n      <td>NaN</td>\n    </tr>\n    <tr>\n      <td>Spain</td>\n      <td>912000.0</td>\n      <td>NaN</td>\n      <td>260000.0</td>\n      <td>1404000.0</td>\n    </tr>\n    <tr>\n      <td>Uruguay</td>\n      <td>455000.0</td>\n      <td>NaN</td>\n      <td>NaN</td>\n      <td>NaN</td>\n    </tr>\n    <tr>\n      <td>Wales</td>\n      <td>NaN</td>\n      <td>NaN</td>\n      <td>13000.0</td>\n      <td>355000.0</td>\n    </tr>\n  </tbody>\n</table>\n</div>",
      "text/plain": "                           Wage                                        \nClub               FC Barcelona  Juventus Manchester United Real Madrid\nNationality                                                            \nArgentina              565000.0  205000.0          206000.0         NaN\nBelgium                110000.0       NaN          230000.0    240000.0\nBosnia Herzegovina          NaN  180000.0               NaN         NaN\nBrazil                 465000.0  335000.0           91000.0    570000.0\nChile                  205000.0       NaN          215000.0         NaN\nCosta Rica                  NaN       NaN               NaN    195000.0\nCroatia                260000.0  160000.0               NaN    420000.0\nDominican Republic          NaN       NaN               NaN    140000.0\nEcuador                     NaN       NaN          120000.0         NaN\nEngland                     NaN       NaN          478000.0         NaN\nFrance                 495000.0  145000.0          375000.0    459000.0\nGermany                240000.0  160000.0               NaN    355000.0\nItaly                       NaN  460000.0           88000.0         NaN\nIvory Coast                 NaN       NaN          105000.0         NaN\nMorocco                     NaN  160000.0               NaN         NaN\nNetherlands            135000.0       NaN               NaN         NaN\nPoland                      NaN  125000.0               NaN         NaN\nPortugal               125000.0  405000.0               NaN         NaN\nScotland                    NaN       NaN           11000.0         NaN\nSerbia                      NaN       NaN          165000.0         NaN\nSpain                  912000.0       NaN          260000.0   1404000.0\nUruguay                455000.0       NaN               NaN         NaN\nWales                       NaN       NaN           13000.0    355000.0"
     },
     "metadata": {},
     "output_type": "display_data"
    }
   ],
   "source": [
    "pivot = df.loc[\n",
    "    df['Club'].isin(['FC Barcelona','Real Madrid','Juventus','Manchester United'])\n",
    "].pivot_table(\n",
    "    values=['Wage'],\n",
    "    index=['Nationality'],\n",
    "    columns=['Club'],\n",
    "    aggfunc='sum'\n",
    ")\n",
    "display(pivot)"
   ]
  },
  {
   "cell_type": "code",
   "execution_count": null,
   "metadata": {},
   "outputs": [],
   "source": []
  }
 ],
 "metadata": {
  "kernelspec": {
   "display_name": "Python 3",
   "language": "python",
   "name": "python3"
  },
  "language_info": {
   "codemirror_mode": {
    "name": "ipython",
    "version": 3
   },
   "file_extension": ".py",
   "mimetype": "text/x-python",
   "name": "python",
   "nbconvert_exporter": "python",
   "pygments_lexer": "ipython3",
   "version": "3.7.4-final"
  }
 },
 "nbformat": 4,
 "nbformat_minor": 2
}